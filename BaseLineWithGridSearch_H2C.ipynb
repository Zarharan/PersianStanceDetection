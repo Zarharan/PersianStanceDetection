{
  "nbformat": 4,
  "nbformat_minor": 0,
  "metadata": {
    "colab": {
      "name": "BaseLineWithGridSearch.ipynb",
      "provenance": [],
      "collapsed_sections": [
        "afMJ4aqRBvQ0",
        "6Mb30c58Byq0",
        "dj_wNk4ibwqm",
        "R4W2-_aXCAXX",
        "d5xu5C8l92m1"
      ],
      "toc_visible": true
    },
    "kernelspec": {
      "name": "python3",
      "display_name": "Python 3"
    },
    "accelerator": "GPU"
  },
  "cells": [
    {
      "cell_type": "markdown",
      "metadata": {
        "id": "oBz3rNazY1nz"
      },
      "source": [
        "# Install and Import Required Libraries"
      ]
    },
    {
      "cell_type": "markdown",
      "metadata": {
        "id": "afMJ4aqRBvQ0"
      },
      "source": [
        "## Install"
      ]
    },
    {
      "cell_type": "code",
      "metadata": {
        "id": "0SMG5tHCzkOA",
        "outputId": "1742e4b0-30ad-49da-beb9-59762bea1b88",
        "colab": {
          "base_uri": "https://localhost:8080/"
        }
      },
      "source": [
        "!pip install hazm\n",
        "!pip install stanfordnlp\n",
        "!pip install -U nltk\n",
        "!pip install pandas\n",
        "!pip install sklearn\n",
        "!pip install numpy"
      ],
      "execution_count": null,
      "outputs": [
        {
          "output_type": "stream",
          "text": [
            "Requirement already satisfied: hazm in /usr/local/lib/python3.6/dist-packages (0.7.0)\n",
            "Processing /root/.cache/pip/wheels/d1/ab/40/3bceea46922767e42986aef7606a600538ca80de6062dc266c/nltk-3.3-cp36-none-any.whl\n",
            "Requirement already satisfied: libwapiti>=0.2.1; platform_system != \"Windows\" in /usr/local/lib/python3.6/dist-packages (from hazm) (0.2.1)\n",
            "Requirement already satisfied: six in /usr/local/lib/python3.6/dist-packages (from nltk==3.3->hazm) (1.12.0)\n",
            "Installing collected packages: nltk\n",
            "  Found existing installation: nltk 3.5\n",
            "    Uninstalling nltk-3.5:\n",
            "      Successfully uninstalled nltk-3.5\n",
            "Successfully installed nltk-3.3\n"
          ],
          "name": "stdout"
        },
        {
          "output_type": "display_data",
          "data": {
            "application/vnd.colab-display-data+json": {
              "pip_warning": {
                "packages": [
                  "nltk"
                ]
              }
            }
          },
          "metadata": {
            "tags": []
          }
        },
        {
          "output_type": "stream",
          "text": [
            "Requirement already satisfied: stanfordnlp in /usr/local/lib/python3.6/dist-packages (0.2.0)\n",
            "Requirement already satisfied: protobuf in /usr/local/lib/python3.6/dist-packages (from stanfordnlp) (3.10.0)\n",
            "Requirement already satisfied: tqdm in /usr/local/lib/python3.6/dist-packages (from stanfordnlp) (4.41.1)\n",
            "Requirement already satisfied: numpy in /usr/local/lib/python3.6/dist-packages (from stanfordnlp) (1.18.4)\n",
            "Requirement already satisfied: requests in /usr/local/lib/python3.6/dist-packages (from stanfordnlp) (2.23.0)\n",
            "Requirement already satisfied: torch>=1.0.0 in /usr/local/lib/python3.6/dist-packages (from stanfordnlp) (1.5.0+cu101)\n",
            "Requirement already satisfied: six>=1.9 in /usr/local/lib/python3.6/dist-packages (from protobuf->stanfordnlp) (1.12.0)\n",
            "Requirement already satisfied: setuptools in /usr/local/lib/python3.6/dist-packages (from protobuf->stanfordnlp) (46.3.0)\n",
            "Requirement already satisfied: chardet<4,>=3.0.2 in /usr/local/lib/python3.6/dist-packages (from requests->stanfordnlp) (3.0.4)\n",
            "Requirement already satisfied: idna<3,>=2.5 in /usr/local/lib/python3.6/dist-packages (from requests->stanfordnlp) (2.9)\n",
            "Requirement already satisfied: certifi>=2017.4.17 in /usr/local/lib/python3.6/dist-packages (from requests->stanfordnlp) (2020.4.5.1)\n",
            "Requirement already satisfied: urllib3!=1.25.0,!=1.25.1,<1.26,>=1.21.1 in /usr/local/lib/python3.6/dist-packages (from requests->stanfordnlp) (1.24.3)\n",
            "Requirement already satisfied: future in /usr/local/lib/python3.6/dist-packages (from torch>=1.0.0->stanfordnlp) (0.16.0)\n",
            "Processing /root/.cache/pip/wheels/ae/8c/3f/b1fe0ba04555b08b57ab52ab7f86023639a526d8bc8d384306/nltk-3.5-cp36-none-any.whl\n",
            "Requirement already satisfied, skipping upgrade: tqdm in /usr/local/lib/python3.6/dist-packages (from nltk) (4.41.1)\n",
            "Requirement already satisfied, skipping upgrade: click in /usr/local/lib/python3.6/dist-packages (from nltk) (7.1.2)\n",
            "Requirement already satisfied, skipping upgrade: joblib in /usr/local/lib/python3.6/dist-packages (from nltk) (0.14.1)\n",
            "Requirement already satisfied, skipping upgrade: regex in /usr/local/lib/python3.6/dist-packages (from nltk) (2019.12.20)\n",
            "\u001b[31mERROR: hazm 0.7.0 has requirement nltk==3.3, but you'll have nltk 3.5 which is incompatible.\u001b[0m\n",
            "Installing collected packages: nltk\n",
            "  Found existing installation: nltk 3.3\n",
            "    Uninstalling nltk-3.3:\n",
            "      Successfully uninstalled nltk-3.3\n",
            "Successfully installed nltk-3.5\n"
          ],
          "name": "stdout"
        },
        {
          "output_type": "display_data",
          "data": {
            "application/vnd.colab-display-data+json": {
              "pip_warning": {
                "packages": [
                  "nltk"
                ]
              }
            }
          },
          "metadata": {
            "tags": []
          }
        },
        {
          "output_type": "stream",
          "text": [
            "Requirement already satisfied: pandas in /usr/local/lib/python3.6/dist-packages (1.0.3)\n",
            "Requirement already satisfied: python-dateutil>=2.6.1 in /usr/local/lib/python3.6/dist-packages (from pandas) (2.8.1)\n",
            "Requirement already satisfied: pytz>=2017.2 in /usr/local/lib/python3.6/dist-packages (from pandas) (2018.9)\n",
            "Requirement already satisfied: numpy>=1.13.3 in /usr/local/lib/python3.6/dist-packages (from pandas) (1.18.4)\n",
            "Requirement already satisfied: six>=1.5 in /usr/local/lib/python3.6/dist-packages (from python-dateutil>=2.6.1->pandas) (1.12.0)\n",
            "Requirement already satisfied: sklearn in /usr/local/lib/python3.6/dist-packages (0.0)\n",
            "Requirement already satisfied: scikit-learn in /usr/local/lib/python3.6/dist-packages (from sklearn) (0.22.2.post1)\n",
            "Requirement already satisfied: joblib>=0.11 in /usr/local/lib/python3.6/dist-packages (from scikit-learn->sklearn) (0.14.1)\n",
            "Requirement already satisfied: numpy>=1.11.0 in /usr/local/lib/python3.6/dist-packages (from scikit-learn->sklearn) (1.18.4)\n",
            "Requirement already satisfied: scipy>=0.17.0 in /usr/local/lib/python3.6/dist-packages (from scikit-learn->sklearn) (1.4.1)\n",
            "Requirement already satisfied: numpy in /usr/local/lib/python3.6/dist-packages (1.18.4)\n"
          ],
          "name": "stdout"
        }
      ]
    },
    {
      "cell_type": "markdown",
      "metadata": {
        "id": "6Mb30c58Byq0"
      },
      "source": [
        "## Import"
      ]
    },
    {
      "cell_type": "code",
      "metadata": {
        "id": "OLQ0-YGbBoFm"
      },
      "source": [
        "import pandas as pd\n",
        "from sklearn.model_selection import KFold\n",
        "\n",
        "from sklearn.linear_model import LinearRegression\n",
        "from sklearn.linear_model import LogisticRegression\n",
        "from sklearn.ensemble import RandomForestClassifier\n",
        "from sklearn.naive_bayes import GaussianNB\n",
        "from sklearn.svm import LinearSVC\n",
        "from sklearn.svm import SVC\n",
        "\n",
        "import seaborn as sns\n",
        "from sklearn.metrics import confusion_matrix\n",
        "import matplotlib.pyplot as plt\n",
        "from sklearn.metrics import accuracy_score\n",
        "from sklearn.metrics import f1_score\n",
        "from sklearn import metrics\n",
        "from sklearn.model_selection import train_test_split\n",
        "from sklearn.model_selection import cross_val_score\n",
        "from sklearn.utils import shuffle\n",
        "import stanfordnlp\n",
        "import numpy as np\n",
        "\n",
        "from sklearn.model_selection import GridSearchCV\n",
        "from sklearn.pipeline import Pipeline\n",
        "from sklearn.feature_selection import SelectKBest\n",
        "\n",
        "import os.path\n",
        "import joblib"
      ],
      "execution_count": null,
      "outputs": []
    },
    {
      "cell_type": "markdown",
      "metadata": {
        "id": "dj_wNk4ibwqm"
      },
      "source": [
        "# Import my class from google drive"
      ]
    },
    {
      "cell_type": "code",
      "metadata": {
        "id": "RDqlb6kRb6aO",
        "outputId": "3f11ea17-61ef-41a8-f5f9-5986ff95247d",
        "colab": {
          "base_uri": "https://localhost:8080/",
          "height": 51
        }
      },
      "source": [
        "from pydrive.auth import GoogleAuth\n",
        "from pydrive.drive import GoogleDrive\n",
        "from google.colab import auth\n",
        "from oauth2client.client import GoogleCredentials\n",
        "\n",
        "auth.authenticate_user()\n",
        "gauth = GoogleAuth()\n",
        "gauth.credentials = GoogleCredentials.get_application_default()\n",
        "drive = GoogleDrive(gauth)\n",
        "\n",
        "FeatureExtractor = drive.CreateFile({'id':'1IwEfIW-lYHvGSSr6TwMsGX3xX1Z829cP'})\n",
        "FeatureExtractor.GetContentFile('psfeatureextractor.py')\n",
        "from psfeatureextractor import PSFeatureExtractor as FeatureExtractor"
      ],
      "execution_count": null,
      "outputs": [
        {
          "output_type": "stream",
          "text": [
            "[nltk_data] Downloading package punkt to /root/nltk_data...\n",
            "[nltk_data]   Unzipping tokenizers/punkt.zip.\n"
          ],
          "name": "stderr"
        }
      ]
    },
    {
      "cell_type": "markdown",
      "metadata": {
        "id": "R4W2-_aXCAXX"
      },
      "source": [
        "# Common Functions and Variables"
      ]
    },
    {
      "cell_type": "code",
      "metadata": {
        "id": "PxF5KWtM_3-d"
      },
      "source": [
        "stanford_models_path  = '/content/drive/My Drive/Stance Detection Paper/persian_stance_baseline_data/' \n",
        "dataset_path = '/content/drive/My Drive/Stance Detection Paper/HeadlineToClaim.csv'\n",
        "stopWord_path = '/content/drive/My Drive/ImportantNLPFiles/StopWords_fa.txt'\n",
        "polarity_dataset_path = '/content/drive/My Drive/Stance Detection Paper/PolarityDataset.xlsx'\n",
        "save_load_path = \"/content/drive/My Drive/Stance Detection Paper/persian_stance_baseline_data/vectors\"\n",
        "w2v_model_path = \"/content/drive/My Drive/Stance Detection Paper/persian_stance_baseline_data/vectors/w2v_persian.pkl\"\n",
        "train_test_sets_save_path = \"/content/drive/My Drive/Stance Detection Paper/persian_stance_baseline_data\"\n",
        "train_test_sets_load_path = \"/content/drive/My Drive/Stance Detection Paper/persian_stance_baseline_data\""
      ],
      "execution_count": null,
      "outputs": []
    },
    {
      "cell_type": "markdown",
      "metadata": {
        "id": "19kgNIXjbwBA"
      },
      "source": [
        "## k_fold_train_test function"
      ]
    },
    {
      "cell_type": "code",
      "metadata": {
        "id": "vh4V5QklSxlI"
      },
      "source": [
        "def k_fold_train_test(X, Y, k_fold, model, scoring = 'accuracy' , additional_description = ''):\n",
        "  model_name = model.__class__.__name__\n",
        "  accuracies = cross_val_score(model, X, Y, scoring = scoring, cv= k_fold)\n",
        "  result = []\n",
        "  df_result = pd.DataFrame(index=range(k_fold))\n",
        "  for fold_index, accuracy in enumerate(accuracies):\n",
        "    result.append((model_name, fold_index, accuracy))\n",
        "  \n",
        "  df_result = pd.DataFrame(result, columns=['model_name', 'fold_index', scoring])\n",
        "\n",
        "  sns.boxplot(x = 'model_name', y = scoring, data = df_result)\n",
        "  sns.stripplot(x='model_name', y=scoring, data = df_result, \n",
        "                size=8, jitter=True, edgecolor=\"gray\", linewidth=2)\n",
        "  plt.show()\n",
        "\n",
        "  print('Mean '+scoring + ' of ' + model_name + ' in ' + str(k_fold) + ' fold is: ', np.average(accuracies, axis=0))\n",
        "  if len(additional_description)>0:\n",
        "    print(additional_description)\n",
        "  return df_result"
      ],
      "execution_count": null,
      "outputs": []
    },
    {
      "cell_type": "markdown",
      "metadata": {
        "id": "XKpfAwRrbpHR"
      },
      "source": [
        "## common_train_test function"
      ]
    },
    {
      "cell_type": "code",
      "metadata": {
        "id": "wlVZ2DJD9gJO"
      },
      "source": [
        "def common_train_test(model, X, Y, test_size= 0.2\n",
        ",save_datasets = True, save_path = '', load_if_exist = True, load_path = '', additional_description = ''\n",
        ", features_name= ''):\n",
        "  \n",
        "  model_name = model.__class__.__name__\n",
        "  file_not_exist = False\n",
        "  if load_if_exist :\n",
        "    assert len(load_path) > 0, \"Please enter load_path.\"\n",
        "    load_X_train = load_path + '/X_train_'+features_name+'.pkl'\n",
        "    load_X_test = load_path + '/X_test_'+features_name+'.pkl'\n",
        "    load_y_train = load_path + '/y_train_'+features_name+'.pkl'\n",
        "    load_y_test = load_path + '/y_test_'+features_name+'.pkl'\n",
        "    if os.path.isfile(load_X_train) == True :\n",
        "      X_train = joblib.load(load_X_train)\n",
        "      print('X_train loaded successfully.')\n",
        "    else:\n",
        "      print('X_train file is not exist.')\n",
        "      file_not_exist = True\n",
        "    if os.path.isfile(load_X_test) == True :\n",
        "      X_test = joblib.load(load_X_test)\n",
        "      print('X_test loaded successfully.')\n",
        "    else:\n",
        "      print('X_test file is not exist.')  \n",
        "      file_not_exist = True\n",
        "    if os.path.isfile(load_y_train) == True :\n",
        "      y_train = joblib.load(load_y_train)\n",
        "      print('y_train loaded successfully.')\n",
        "    else:\n",
        "      print('y_train file is not exist.') \n",
        "      file_not_exist = True\n",
        "    if os.path.isfile(load_y_test) == True :\n",
        "      y_test = joblib.load(load_y_test)\n",
        "      print('y_test loaded successfully.')\n",
        "    else:\n",
        "      print('y_test file is not exist.')\n",
        "      file_not_exist = True\n",
        "  if load_if_exist == False or file_not_exist == True:\n",
        "    X_train, X_test, y_train, y_test = train_test_split(X, Y, shuffle= True , test_size = test_size, random_state = 0)\n",
        "    print('Train and test sets created successfully.')\n",
        "    if save_datasets:\n",
        "      joblib.dump(X_train,load_path + '/X_train_'+features_name+'.pkl')\n",
        "      joblib.dump(X_test,load_path + '/X_test_'+features_name+'.pkl')\n",
        "      joblib.dump(y_train,load_path + '/y_train_'+features_name+'.pkl')\n",
        "      joblib.dump(y_test,load_path + '/y_test_'+features_name+'.pkl')\n",
        "      print('Train and test sets saved successfully.')\n",
        "  else:\n",
        "    print('Train and test sets loaded successfully.')\n",
        "\n",
        "  model.fit(X_train, y_train)\n",
        "  y_pred = model.predict(X_test)\n",
        "\n",
        "  conf_mat = confusion_matrix(y_test, y_pred)\n",
        "  fig, ax = plt.subplots(figsize=(4,4))\n",
        "  labels_name = np.unique(Y)\n",
        "  sns.heatmap(conf_mat, annot=True, fmt='d', xticklabels = labels_name, yticklabels = labels_name)\n",
        "  plt.ylabel('Actual')\n",
        "  plt.xlabel('Predicted')\n",
        "  print(model_name)\n",
        "  plt.show()\n",
        "\n",
        "  print(metrics.classification_report(y_test, y_pred, labels_name))\n",
        "  print('accuracy : ', accuracy_score(y_test, y_pred))\n",
        "  print('weighted f1 score : ', f1_score(y_test, y_pred, average='weighted'))\n",
        "  if len(additional_description)>0:\n",
        "    print(additional_description)\n",
        "  return y_pred"
      ],
      "execution_count": null,
      "outputs": []
    },
    {
      "cell_type": "markdown",
      "metadata": {
        "id": "tPTiAwfAAPuk"
      },
      "source": [
        "## Create Feature Extractor Object"
      ]
    },
    {
      "cell_type": "code",
      "metadata": {
        "id": "hAGzuYtgALiv",
        "outputId": "8003a6c8-4326-44a3-baec-5f0490874eb8",
        "colab": {
          "base_uri": "https://localhost:8080/",
          "height": 156
        }
      },
      "source": [
        "psf_extractor = FeatureExtractor(dataset_path = dataset_path, stopWord_path = stopWord_path\n",
        "                                    , polarity_dataset_path = polarity_dataset_path,\n",
        "                                  stanford_models_path = stanford_models_path\n",
        "                                  ,use_google_drive = True, important_words = ['؟',\n",
        "             'تکذیب',\n",
        "             'تکذیب شد',\n",
        "             ':',\n",
        "             ])\n",
        "\n",
        "tokens_claims , tokens_headlines = psf_extractor.nltk_tokenize()"
      ],
      "execution_count": null,
      "outputs": [
        {
          "output_type": "stream",
          "text": [
            "Go to this URL in a browser: https://accounts.google.com/o/oauth2/auth?client_id=947318989803-6bn6qk8qdgf4n4g3pfee6491hc0brc4i.apps.googleusercontent.com&redirect_uri=urn%3aietf%3awg%3aoauth%3a2.0%3aoob&response_type=code&scope=email%20https%3a%2f%2fwww.googleapis.com%2fauth%2fdocs.test%20https%3a%2f%2fwww.googleapis.com%2fauth%2fdrive%20https%3a%2f%2fwww.googleapis.com%2fauth%2fdrive.photos.readonly%20https%3a%2f%2fwww.googleapis.com%2fauth%2fpeopleapi.readonly\n",
            "\n",
            "Enter your authorization code:\n",
            "··········\n",
            "Mounted at /content/drive\n",
            "/content/drive/My Drive/ImportantNLPFiles/StopWords_fa.txt\n",
            "(2029,) (2029,) (2029,) (2029,) (2029,)\n"
          ],
          "name": "stdout"
        }
      ]
    },
    {
      "cell_type": "code",
      "metadata": {
        "id": "qfOh7sH9A701"
      },
      "source": [
        "labels = np.reshape(psf_extractor.labels,(len(psf_extractor.labels),1))\n",
        "labels.shape"
      ],
      "execution_count": null,
      "outputs": []
    },
    {
      "cell_type": "code",
      "metadata": {
        "id": "9IfJJJ6NK_Hy",
        "outputId": "93820ddf-4b85-49d4-b75e-588a90439f4c",
        "colab": {
          "base_uri": "https://localhost:8080/",
          "height": 54
        }
      },
      "source": [
        "metrics.SCORERS.keys()"
      ],
      "execution_count": null,
      "outputs": [
        {
          "output_type": "execute_result",
          "data": {
            "text/plain": [
              "dict_keys(['explained_variance', 'r2', 'max_error', 'neg_median_absolute_error', 'neg_mean_absolute_error', 'neg_mean_squared_error', 'neg_mean_squared_log_error', 'neg_root_mean_squared_error', 'neg_mean_poisson_deviance', 'neg_mean_gamma_deviance', 'accuracy', 'roc_auc', 'roc_auc_ovr', 'roc_auc_ovo', 'roc_auc_ovr_weighted', 'roc_auc_ovo_weighted', 'balanced_accuracy', 'average_precision', 'neg_log_loss', 'neg_brier_score', 'adjusted_rand_score', 'homogeneity_score', 'completeness_score', 'v_measure_score', 'mutual_info_score', 'adjusted_mutual_info_score', 'normalized_mutual_info_score', 'fowlkes_mallows_score', 'precision', 'precision_macro', 'precision_micro', 'precision_samples', 'precision_weighted', 'recall', 'recall_macro', 'recall_micro', 'recall_samples', 'recall_weighted', 'f1', 'f1_macro', 'f1_micro', 'f1_samples', 'f1_weighted', 'jaccard', 'jaccard_macro', 'jaccard_micro', 'jaccard_samples', 'jaccard_weighted'])"
            ]
          },
          "metadata": {
            "tags": []
          },
          "execution_count": 12
        }
      ]
    },
    {
      "cell_type": "markdown",
      "metadata": {
        "id": "XyjAncnj9rUd"
      },
      "source": [
        "# TF-IDF With Other Features"
      ]
    },
    {
      "cell_type": "markdown",
      "metadata": {
        "id": "9uQkO49tRZRO"
      },
      "source": [
        "## Extract Feature"
      ]
    },
    {
      "cell_type": "code",
      "metadata": {
        "id": "XnDF49XjRYOI",
        "outputId": "f22da778-2140-456f-b625-11dcf4cb4a30",
        "colab": {
          "base_uri": "https://localhost:8080/",
          "height": 51
        }
      },
      "source": [
        "features, features_name = psf_extractor.generate_Features(w2v_model_path = w2v_model_path,save_path = save_load_path\n",
        "                                                          , save_feature= True\n",
        "                                                          , load_path= save_load_path\n",
        "                                                          , load_if_exist = True, bow = False, w2v = False, polarity= False)\n",
        "\n",
        "features.shape"
      ],
      "execution_count": null,
      "outputs": [
        {
          "output_type": "stream",
          "text": [
            "Features loaded successfully.\n"
          ],
          "name": "stdout"
        },
        {
          "output_type": "execute_result",
          "data": {
            "text/plain": [
              "(2029, 728)"
            ]
          },
          "metadata": {
            "tags": []
          },
          "execution_count": 13
        }
      ]
    },
    {
      "cell_type": "markdown",
      "metadata": {
        "id": "_SIb0MD_Rliv"
      },
      "source": [
        "## Train Best Models"
      ]
    },
    {
      "cell_type": "markdown",
      "metadata": {
        "id": "RbKOEfX5VVEf"
      },
      "source": [
        "### *SVM*"
      ]
    },
    {
      "cell_type": "code",
      "metadata": {
        "id": "SCJimwHR65DF",
        "outputId": "5bc0dc1d-7383-426b-e7ad-3134602d0d27",
        "colab": {
          "base_uri": "https://localhost:8080/",
          "height": 636
        }
      },
      "source": [
        "model = SVC(C=10, break_ties=False, cache_size=200, class_weight='balanced', coef0=0.0,\n",
        "    decision_function_shape='ovo', degree=3, gamma='scale', kernel='rbf',\n",
        "    max_iter=-1, probability=False, random_state=None, shrinking=True,\n",
        "    tol=0.001, verbose=False)\n",
        "result = common_train_test(model = model, X=features, Y=labels, test_size = 0.2\n",
        "                           , additional_description = 'With the features : '+ features_name\n",
        "                           , save_datasets = True, save_path = train_test_sets_save_path\n",
        "                           , load_if_exist = True, load_path = train_test_sets_load_path\n",
        "                           , features_name = features_name)"
      ],
      "execution_count": null,
      "outputs": [
        {
          "output_type": "stream",
          "text": [
            "X_train file is not exist.\n",
            "X_test file is not exist.\n",
            "y_train file is not exist.\n",
            "y_test file is not exist.\n",
            "Train and test sets created successfully.\n",
            "Train and test sets saved successfully.\n",
            "SVC\n"
          ],
          "name": "stdout"
        },
        {
          "output_type": "display_data",
          "data": {
            "image/png": "[encoded data removed]",
            "text/plain": [
              "<Figure size 288x288 with 2 Axes>"
            ]
          },
          "metadata": {
            "tags": [],
            "needs_background": "light"
          }
        },
        {
          "output_type": "stream",
          "text": [
            "              precision    recall  f1-score   support\n",
            "\n",
            "       Agree       0.49      0.60      0.54        70\n",
            "    Disagree       0.62      0.58      0.60        31\n",
            "     Discuss       0.68      0.62      0.65       166\n",
            "   Unrelated       0.68      0.68      0.68       139\n",
            "\n",
            "    accuracy                           0.63       406\n",
            "   macro avg       0.62      0.62      0.62       406\n",
            "weighted avg       0.64      0.63      0.64       406\n",
            "\n",
            "accuracy :  0.6330049261083743\n",
            "weighted f1 score :  0.6350416228750646\n",
            "With the features : tfidf_similarity_important_words_more_than2_parts_root_distance_\n"
          ],
          "name": "stdout"
        }
      ]
    },
    {
      "cell_type": "markdown",
      "metadata": {
        "id": "CKo77bPZVgYe"
      },
      "source": [
        "### RandomForestClassifier"
      ]
    },
    {
      "cell_type": "code",
      "metadata": {
        "id": "Msp0HPwtA8ND",
        "outputId": "86792a8d-f895-4d18-d015-28176fa46064",
        "colab": {
          "base_uri": "https://localhost:8080/",
          "height": 619
        }
      },
      "source": [
        "model = RandomForestClassifier(bootstrap=True, ccp_alpha=0.0,\n",
        "                       class_weight='balanced_subsample', criterion='entropy',\n",
        "                       max_depth=None, max_features='auto', max_leaf_nodes=None,\n",
        "                       max_samples=None, min_impurity_decrease=0.0,\n",
        "                       min_impurity_split=None, min_samples_leaf=1,\n",
        "                       min_samples_split=2, min_weight_fraction_leaf=0.0,\n",
        "                       n_estimators=75, n_jobs=None, oob_score=False,\n",
        "                       random_state=None, verbose=0, warm_start=False)      \n",
        "result = common_train_test(model = model, X=features, Y=labels, test_size = 0.2\n",
        "                           , additional_description = 'With the features : '+ features_name\n",
        "                           , save_datasets = True, save_path = train_test_sets_save_path\n",
        "                           , load_if_exist = True, load_path = train_test_sets_load_path\n",
        "                           , features_name = features_name)"
      ],
      "execution_count": null,
      "outputs": [
        {
          "output_type": "stream",
          "text": [
            "X_train loaded successfully.\n",
            "X_test loaded successfully.\n",
            "y_train loaded successfully.\n",
            "y_test loaded successfully.\n",
            "Train and test sets loaded successfully.\n",
            "RandomForestClassifier\n"
          ],
          "name": "stdout"
        },
        {
          "output_type": "display_data",
          "data": {
            "image/png": "[encoded data removed]",
            "text/plain": [
              "<Figure size 288x288 with 2 Axes>"
            ]
          },
          "metadata": {
            "tags": [],
            "needs_background": "light"
          }
        },
        {
          "output_type": "stream",
          "text": [
            "              precision    recall  f1-score   support\n",
            "\n",
            "       Agree       0.62      0.60      0.61        70\n",
            "    Disagree       0.80      0.52      0.63        31\n",
            "     Discuss       0.74      0.63      0.68       166\n",
            "   Unrelated       0.63      0.81      0.71       139\n",
            "\n",
            "    accuracy                           0.67       406\n",
            "   macro avg       0.70      0.64      0.66       406\n",
            "weighted avg       0.69      0.67      0.67       406\n",
            "\n",
            "accuracy :  0.6748768472906403\n",
            "weighted f1 score :  0.6725625048978913\n",
            "With the features : tfidf_similarity_important_words_more_than2_parts_root_distance_\n"
          ],
          "name": "stdout"
        }
      ]
    },
    {
      "cell_type": "markdown",
      "metadata": {
        "id": "B6AR6TcxVl1w"
      },
      "source": [
        "### Linear SVC"
      ]
    },
    {
      "cell_type": "code",
      "metadata": {
        "id": "58sPvAO1N5EW",
        "outputId": "a10368ac-5772-4a5b-e467-78c9be4c4fc1",
        "colab": {
          "base_uri": "https://localhost:8080/",
          "height": 621
        }
      },
      "source": [
        "model = LinearSVC(C=0.5, class_weight='balanced', dual=True, fit_intercept=True,\n",
        "          intercept_scaling=1, loss='hinge', max_iter=1000, multi_class='ovr',\n",
        "          penalty='l2', random_state=None, tol=0.0001, verbose=0)\n",
        "result = common_train_test(model = model, X=features, Y=labels, test_size = 0.2\n",
        "                           , additional_description = 'With the features : '+ features_name\n",
        "                           , save_datasets = True, save_path = train_test_sets_save_path\n",
        "                           , load_if_exist = True, load_path = train_test_sets_load_path\n",
        "                           , features_name = features_name)"
      ],
      "execution_count": null,
      "outputs": [
        {
          "output_type": "stream",
          "text": [
            "X_train loaded successfully.\n",
            "X_test loaded successfully.\n",
            "y_train loaded successfully.\n",
            "y_test loaded successfully.\n",
            "Train and test sets loaded successfully.\n",
            "LinearSVC\n"
          ],
          "name": "stdout"
        },
        {
          "output_type": "display_data",
          "data": {
            "image/png": "[encoded data removed]",
            "text/plain": [
              "<Figure size 288x288 with 2 Axes>"
            ]
          },
          "metadata": {
            "tags": [],
            "needs_background": "light"
          }
        },
        {
          "output_type": "stream",
          "text": [
            "              precision    recall  f1-score   support\n",
            "\n",
            "       Agree       0.47      0.66      0.55        70\n",
            "    Disagree       0.56      0.74      0.64        31\n",
            "     Discuss       0.82      0.57      0.67       166\n",
            "   Unrelated       0.66      0.73      0.69       139\n",
            "\n",
            "    accuracy                           0.65       406\n",
            "   macro avg       0.63      0.67      0.64       406\n",
            "weighted avg       0.69      0.65      0.65       406\n",
            "\n",
            "accuracy :  0.6502463054187192\n",
            "weighted f1 score :  0.6544023635914299\n",
            "With the features : tfidf_similarity_important_words_more_than2_parts_root_distance_\n"
          ],
          "name": "stdout"
        }
      ]
    },
    {
      "cell_type": "markdown",
      "metadata": {
        "id": "KSXKfVR0Vsaj"
      },
      "source": [
        "### Logistic Regression"
      ]
    },
    {
      "cell_type": "code",
      "metadata": {
        "id": "PiuoewVvN5oX",
        "outputId": "f2a342d7-e56d-4f21-f1ee-7ad4d526b2e3",
        "colab": {
          "base_uri": "https://localhost:8080/",
          "height": 619
        }
      },
      "source": [
        "# with \"l1_ratio\": ['None']\n",
        "model = LogisticRegression(C=1, class_weight='balanced', dual=False, fit_intercept=True,\n",
        "                   intercept_scaling=1, l1_ratio=None, max_iter=1000,\n",
        "                   multi_class='ovr', n_jobs=None, penalty='l1',\n",
        "                   random_state=None, solver='saga', tol=0.0001, verbose=0,\n",
        "                   warm_start=False)\n",
        "result = common_train_test(model = model, X=features, Y=labels, test_size = 0.2\n",
        "                           , additional_description = 'With the features : '+ features_name\n",
        "                           , save_datasets = True, save_path = train_test_sets_save_path\n",
        "                           , load_if_exist = True, load_path = train_test_sets_load_path\n",
        "                           , features_name = features_name)"
      ],
      "execution_count": null,
      "outputs": [
        {
          "output_type": "stream",
          "text": [
            "X_train loaded successfully.\n",
            "X_test loaded successfully.\n",
            "y_train loaded successfully.\n",
            "y_test loaded successfully.\n",
            "Train and test sets loaded successfully.\n",
            "LogisticRegression\n"
          ],
          "name": "stdout"
        },
        {
          "output_type": "display_data",
          "data": {
            "image/png": "[encoded data removed]",
            "text/plain": [
              "<Figure size 288x288 with 2 Axes>"
            ]
          },
          "metadata": {
            "tags": [],
            "needs_background": "light"
          }
        },
        {
          "output_type": "stream",
          "text": [
            "              precision    recall  f1-score   support\n",
            "\n",
            "       Agree       0.51      0.76      0.61        70\n",
            "    Disagree       0.59      0.74      0.66        31\n",
            "     Discuss       0.80      0.52      0.63       166\n",
            "   Unrelated       0.68      0.76      0.72       139\n",
            "\n",
            "    accuracy                           0.66       406\n",
            "   macro avg       0.64      0.69      0.65       406\n",
            "weighted avg       0.69      0.66      0.66       406\n",
            "\n",
            "accuracy :  0.6600985221674877\n",
            "weighted f1 score :  0.6587457606192086\n",
            "With the features : tfidf_similarity_important_words_more_than2_parts_root_distance_\n"
          ],
          "name": "stdout"
        }
      ]
    },
    {
      "cell_type": "code",
      "metadata": {
        "id": "wG54yCTEprOt",
        "outputId": "9d72399f-115d-47ed-ee78-9e8bda2bc468",
        "colab": {
          "base_uri": "https://localhost:8080/",
          "height": 619
        }
      },
      "source": [
        "# with \"l1_ratio\": [0.1]\n",
        "model = LogisticRegression(C=1, class_weight='balanced', dual=False, fit_intercept=True,\n",
        "                   intercept_scaling=1, l1_ratio=0.1, max_iter=1000,\n",
        "                   multi_class='ovr', n_jobs=None, penalty='elasticnet',\n",
        "                   random_state=None, solver='saga', tol=0.0001, verbose=0,\n",
        "                   warm_start=False)\n",
        "result = common_train_test(model = model, X=features, Y=labels, test_size = 0.2\n",
        "                           , additional_description = 'With the features : '+ features_name\n",
        "                           , save_datasets = True, save_path = train_test_sets_save_path\n",
        "                           , load_if_exist = True, load_path = train_test_sets_load_path\n",
        "                           , features_name = features_name)"
      ],
      "execution_count": null,
      "outputs": [
        {
          "output_type": "stream",
          "text": [
            "X_train loaded successfully.\n",
            "X_test loaded successfully.\n",
            "y_train loaded successfully.\n",
            "y_test loaded successfully.\n",
            "Train and test sets loaded successfully.\n",
            "LogisticRegression\n"
          ],
          "name": "stdout"
        },
        {
          "output_type": "display_data",
          "data": {
            "image/png": "[encoded data removed]",
            "text/plain": [
              "<Figure size 288x288 with 2 Axes>"
            ]
          },
          "metadata": {
            "tags": [],
            "needs_background": "light"
          }
        },
        {
          "output_type": "stream",
          "text": [
            "              precision    recall  f1-score   support\n",
            "\n",
            "       Agree       0.48      0.69      0.56        70\n",
            "    Disagree       0.78      0.68      0.72        31\n",
            "     Discuss       0.82      0.54      0.65       166\n",
            "   Unrelated       0.64      0.78      0.70       139\n",
            "\n",
            "    accuracy                           0.66       406\n",
            "   macro avg       0.68      0.67      0.66       406\n",
            "weighted avg       0.70      0.66      0.66       406\n",
            "\n",
            "accuracy :  0.6576354679802956\n",
            "weighted f1 score :  0.6596193020786388\n",
            "With the features : tfidf_similarity_important_words_more_than2_parts_root_distance_\n"
          ],
          "name": "stdout"
        }
      ]
    },
    {
      "cell_type": "code",
      "metadata": {
        "id": "mU9YGiP-punL",
        "outputId": "ac67361f-0d2a-4310-8e8f-226449ecece0",
        "colab": {
          "base_uri": "https://localhost:8080/",
          "height": 619
        }
      },
      "source": [
        "# with \"l1_ratio\": [0.2]\n",
        "model = LogisticRegression(C=1, class_weight='balanced', dual=False, fit_intercept=True,\n",
        "                   intercept_scaling=1, l1_ratio=0.2, max_iter=1000,\n",
        "                   multi_class='ovr', n_jobs=None, penalty='elasticnet',\n",
        "                   random_state=None, solver='saga', tol=0.0001, verbose=0,\n",
        "                   warm_start=False)\n",
        "result = common_train_test(model = model, X=features, Y=labels, test_size = 0.2\n",
        "                           , additional_description = 'With the features : '+ features_name\n",
        "                           , save_datasets = True, save_path = train_test_sets_save_path\n",
        "                           , load_if_exist = True, load_path = train_test_sets_load_path\n",
        "                           , features_name = features_name)"
      ],
      "execution_count": null,
      "outputs": [
        {
          "output_type": "stream",
          "text": [
            "X_train loaded successfully.\n",
            "X_test loaded successfully.\n",
            "y_train loaded successfully.\n",
            "y_test loaded successfully.\n",
            "Train and test sets loaded successfully.\n",
            "LogisticRegression\n"
          ],
          "name": "stdout"
        },
        {
          "output_type": "display_data",
          "data": {
            "image/png": "[encoded data removed]",
            "text/plain": [
              "<Figure size 288x288 with 2 Axes>"
            ]
          },
          "metadata": {
            "tags": [],
            "needs_background": "light"
          }
        },
        {
          "output_type": "stream",
          "text": [
            "              precision    recall  f1-score   support\n",
            "\n",
            "       Agree       0.48      0.69      0.57        70\n",
            "    Disagree       0.76      0.71      0.73        31\n",
            "     Discuss       0.81      0.55      0.65       166\n",
            "   Unrelated       0.64      0.76      0.70       139\n",
            "\n",
            "    accuracy                           0.66       406\n",
            "   macro avg       0.67      0.68      0.66       406\n",
            "weighted avg       0.69      0.66      0.66       406\n",
            "\n",
            "accuracy :  0.6576354679802956\n",
            "weighted f1 score :  0.659402945370372\n",
            "With the features : tfidf_similarity_important_words_more_than2_parts_root_distance_\n"
          ],
          "name": "stdout"
        }
      ]
    },
    {
      "cell_type": "code",
      "metadata": {
        "id": "GeLKyoRVpl8-",
        "outputId": "70608a0b-6e53-4087-dad6-245baa618416",
        "colab": {
          "base_uri": "https://localhost:8080/",
          "height": 619
        }
      },
      "source": [
        "# with \"l1_ratio\": [0.3]\n",
        "model = LogisticRegression(C=1, class_weight='balanced', dual=False, fit_intercept=True,\n",
        "                   intercept_scaling=1, l1_ratio=0.3, max_iter=1000,\n",
        "                   multi_class='ovr', n_jobs=None, penalty='elasticnet',\n",
        "                   random_state=None, solver='saga', tol=0.0001, verbose=0,\n",
        "                   warm_start=False)\n",
        "result = common_train_test(model = model, X=features, Y=labels, test_size = 0.2\n",
        "                           , additional_description = 'With the features : '+ features_name\n",
        "                           , save_datasets = True, save_path = train_test_sets_save_path\n",
        "                           , load_if_exist = True, load_path = train_test_sets_load_path\n",
        "                           , features_name = features_name)"
      ],
      "execution_count": null,
      "outputs": [
        {
          "output_type": "stream",
          "text": [
            "X_train loaded successfully.\n",
            "X_test loaded successfully.\n",
            "y_train loaded successfully.\n",
            "y_test loaded successfully.\n",
            "Train and test sets loaded successfully.\n",
            "LogisticRegression\n"
          ],
          "name": "stdout"
        },
        {
          "output_type": "display_data",
          "data": {
            "image/png": "[encoded data removed]",
            "text/plain": [
              "<Figure size 288x288 with 2 Axes>"
            ]
          },
          "metadata": {
            "tags": [],
            "needs_background": "light"
          }
        },
        {
          "output_type": "stream",
          "text": [
            "              precision    recall  f1-score   support\n",
            "\n",
            "       Agree       0.50      0.71      0.59        70\n",
            "    Disagree       0.73      0.71      0.72        31\n",
            "     Discuss       0.81      0.55      0.65       166\n",
            "   Unrelated       0.65      0.76      0.70       139\n",
            "\n",
            "    accuracy                           0.66       406\n",
            "   macro avg       0.67      0.68      0.67       406\n",
            "weighted avg       0.69      0.66      0.66       406\n",
            "\n",
            "accuracy :  0.6625615763546798\n",
            "weighted f1 score :  0.6635468562009657\n",
            "With the features : tfidf_similarity_important_words_more_than2_parts_root_distance_\n"
          ],
          "name": "stdout"
        }
      ]
    },
    {
      "cell_type": "markdown",
      "metadata": {
        "id": "FDzDsGUDVwwV"
      },
      "source": [
        "### Gussian Naive Bays"
      ]
    },
    {
      "cell_type": "code",
      "metadata": {
        "id": "OoaiTAWLN6Ko",
        "outputId": "5ffc5976-786a-4357-e359-f164a8429b67",
        "colab": {
          "base_uri": "https://localhost:8080/",
          "height": 620
        }
      },
      "source": [
        "model = GaussianNB()\n",
        "result = common_train_test(model = model, X=features, Y=labels, test_size = 0.2\n",
        "                           , additional_description = 'With the features : '+ features_name\n",
        "                           , save_datasets = True, save_path = train_test_sets_save_path\n",
        "                           , load_if_exist = True, load_path = train_test_sets_load_path\n",
        "                           , features_name = features_name)"
      ],
      "execution_count": null,
      "outputs": [
        {
          "output_type": "stream",
          "text": [
            "X_train loaded successfully.\n",
            "X_test loaded successfully.\n",
            "y_train loaded successfully.\n",
            "y_test loaded successfully.\n",
            "Train and test sets loaded successfully.\n",
            "GaussianNB\n"
          ],
          "name": "stdout"
        },
        {
          "output_type": "display_data",
          "data": {
            "image/png": "[encoded data removed]",
            "text/plain": [
              "<Figure size 288x288 with 2 Axes>"
            ]
          },
          "metadata": {
            "tags": [],
            "needs_background": "light"
          }
        },
        {
          "output_type": "stream",
          "text": [
            "              precision    recall  f1-score   support\n",
            "\n",
            "       Agree       0.26      0.59      0.36        70\n",
            "    Disagree       0.21      0.48      0.29        31\n",
            "     Discuss       0.59      0.28      0.38       166\n",
            "   Unrelated       0.41      0.28      0.33       139\n",
            "\n",
            "    accuracy                           0.35       406\n",
            "   macro avg       0.37      0.41      0.34       406\n",
            "weighted avg       0.44      0.35      0.35       406\n",
            "\n",
            "accuracy :  0.3497536945812808\n",
            "weighted f1 score :  0.3541173136251047\n",
            "With the features : tfidf_similarity_important_words_more_than2_parts_root_distance_\n"
          ],
          "name": "stdout"
        }
      ]
    },
    {
      "cell_type": "markdown",
      "metadata": {
        "id": "VLqZEIsBN610"
      },
      "source": [
        "## With 10 Fold Cross Validation"
      ]
    },
    {
      "cell_type": "markdown",
      "metadata": {
        "id": "Up3HIuuQmN-f"
      },
      "source": [
        "## SVM"
      ]
    },
    {
      "cell_type": "code",
      "metadata": {
        "id": "Ns_cbDfimQCR"
      },
      "source": [
        "model = SVC(C=10, break_ties=False, cache_size=200, class_weight='balanced', coef0=0.0,\n",
        "    decision_function_shape='ovo', degree=3, gamma='scale', kernel='rbf',\n",
        "    max_iter=-1, probability=False, random_state=None, shrinking=True,\n",
        "    tol=0.001, verbose=False)\n",
        "df_result = k_fold_train_test(X=features, Y=labels, k_fold = 10, model=model , scoring = 'accuracy'\n",
        ", additional_description = 'With the features : '+ features_name)"
      ],
      "execution_count": null,
      "outputs": []
    },
    {
      "cell_type": "code",
      "metadata": {
        "id": "ARO4Vq-ab8E5",
        "outputId": "307190cd-8027-4403-975b-37ccef8bd96b",
        "colab": {
          "base_uri": "https://localhost:8080/",
          "height": 314
        }
      },
      "source": [
        "features, labels = shuffle(features, labels, random_state=0)\n",
        "model = RandomForestClassifier(n_estimators=100, random_state=0)\n",
        "df_result = k_fold_train_test(X=features, Y=labels, k_fold = 10, model=model , scoring = 'accuracy'\n",
        ", additional_description = 'With the features : '+ features_name)"
      ],
      "execution_count": null,
      "outputs": [
        {
          "output_type": "display_data",
          "data": {
            "image/png": "[encoded data removed]",
            "text/plain": [
              "<Figure size 432x288 with 1 Axes>"
            ]
          },
          "metadata": {
            "tags": [],
            "needs_background": "light"
          }
        },
        {
          "output_type": "stream",
          "text": [
            "Mean accuracy of RandomForestClassifier in 10 fold is:  0.6727235038774814\n",
            "With the features : tfidf_similarity_important_words_more_than2_parts_root_distance_polarity_\n"
          ],
          "name": "stdout"
        }
      ]
    },
    {
      "cell_type": "markdown",
      "metadata": {
        "id": "d5xu5C8l92m1"
      },
      "source": [
        "# BOW With Other Features"
      ]
    },
    {
      "cell_type": "markdown",
      "metadata": {
        "id": "dHJRoe2STdjs"
      },
      "source": [
        "## Extract Feature"
      ]
    },
    {
      "cell_type": "code",
      "metadata": {
        "id": "_UDNrXtuBDrb",
        "outputId": "3d57e5e1-3376-4c8e-e523-91caf6c540a9",
        "colab": {
          "base_uri": "https://localhost:8080/",
          "height": 802
        }
      },
      "source": [
        "features, features_name = psf_extractor.generate_Features(w2v_model_path = w2v_model_path,save_path = save_load_path\n",
        "                                                          , save_feature= True\n",
        "                                                          , load_path= save_load_path\n",
        "                                                          , load_if_exist = True, tfidf = False, w2v = False, polarity= False)\n",
        "\n",
        "features.shape"
      ],
      "execution_count": null,
      "outputs": [
        {
          "output_type": "stream",
          "text": [
            "Features vector file is not exist.\n",
            "Start to generate similarity feature\n",
            "End of similarity feature\n",
            "Start to generate important words feature\n",
            "End of important words feature\n",
            "\"is question\" feature was added.\n",
            "\"more than tow parts\" feature was added.\n",
            "Start to generate root distance feature\n",
            "Use device: gpu\n",
            "---\n",
            "Loading: tokenize\n",
            "With settings: \n",
            "{'model_path': '/content/drive/My Drive/Stance Detection Paper/persian_stance_baseline_data/fa_seraji_models/fa_seraji_tokenizer.pt', 'lang': 'fa', 'shorthand': 'fa_seraji', 'mode': 'predict'}\n",
            "---\n",
            "Loading: mwt\n",
            "With settings: \n",
            "{'model_path': '/content/drive/My Drive/Stance Detection Paper/persian_stance_baseline_data/fa_seraji_models/fa_seraji_mwt_expander.pt', 'lang': 'fa', 'shorthand': 'fa_seraji', 'mode': 'predict'}\n",
            "Building an attentional Seq2Seq model...\n",
            "Using a Bi-LSTM encoder\n",
            "Using soft attention for LSTM.\n",
            "Finetune all embeddings.\n",
            "---\n",
            "Loading: pos\n",
            "With settings: \n",
            "{'model_path': '/content/drive/My Drive/Stance Detection Paper/persian_stance_baseline_data/fa_seraji_models/fa_seraji_tagger.pt', 'pretrain_path': '/content/drive/My Drive/Stance Detection Paper/persian_stance_baseline_data/fa_seraji_models/fa_seraji.pretrain.pt', 'lang': 'fa', 'shorthand': 'fa_seraji', 'mode': 'predict'}\n",
            "---\n",
            "Loading: lemma\n",
            "With settings: \n",
            "{'model_path': '/content/drive/My Drive/Stance Detection Paper/persian_stance_baseline_data/fa_seraji_models/fa_seraji_lemmatizer.pt', 'lang': 'fa', 'shorthand': 'fa_seraji', 'mode': 'predict'}\n",
            "Building an attentional Seq2Seq model...\n",
            "Using a Bi-LSTM encoder\n",
            "Using soft attention for LSTM.\n",
            "Finetune all embeddings.\n",
            "[Running seq2seq lemmatizer with edit classifier]\n",
            "---\n",
            "Loading: depparse\n",
            "With settings: \n",
            "{'model_path': '/content/drive/My Drive/Stance Detection Paper/persian_stance_baseline_data/fa_seraji_models/fa_seraji_parser.pt', 'pretrain_path': '/content/drive/My Drive/Stance Detection Paper/persian_stance_baseline_data/fa_seraji_models/fa_seraji.pretrain.pt', 'lang': 'fa', 'shorthand': 'fa_seraji', 'mode': 'predict'}\n",
            "Done loading processors!\n",
            "---\n",
            "End of root distance feature\n",
            "Start to generate bow feature\n",
            "End of bow feature\n",
            "Features saved successfully.\n"
          ],
          "name": "stdout"
        },
        {
          "output_type": "execute_result",
          "data": {
            "text/plain": [
              "(2029, 20360)"
            ]
          },
          "metadata": {
            "tags": []
          },
          "execution_count": 23
        }
      ]
    },
    {
      "cell_type": "markdown",
      "metadata": {
        "id": "2tq4fShpTpO-"
      },
      "source": [
        "## Train Best Models"
      ]
    },
    {
      "cell_type": "markdown",
      "metadata": {
        "id": "wf8eWqtIW2x5"
      },
      "source": [
        "### SVM"
      ]
    },
    {
      "cell_type": "code",
      "metadata": {
        "id": "6baACwqATpgE",
        "outputId": "cae586f7-813d-43c1-b4c8-be9cfba6f6bf",
        "colab": {
          "base_uri": "https://localhost:8080/",
          "height": 640
        }
      },
      "source": [
        "model = SVC(C=10, break_ties=False, cache_size=200, class_weight='balanced', coef0=0.0,\n",
        "    decision_function_shape='ovo', degree=3, gamma='scale', kernel='rbf',\n",
        "    max_iter=-1, probability=False, random_state=None, shrinking=True,\n",
        "    tol=0.001, verbose=False)\n",
        "result = common_train_test(model = model, X=features, Y=labels, test_size = 0.2\n",
        "                           , additional_description = 'With the features : '+ features_name\n",
        "                           , save_datasets = True, save_path = train_test_sets_save_path\n",
        "                           , load_if_exist = True, load_path = train_test_sets_load_path\n",
        "                           , features_name = features_name)"
      ],
      "execution_count": null,
      "outputs": [
        {
          "output_type": "stream",
          "text": [
            "X_train file is not exist.\n",
            "X_test file is not exist.\n",
            "y_train file is not exist.\n",
            "y_test file is not exist.\n",
            "Train and test sets created successfully.\n",
            "Train and test sets saved successfully.\n",
            "SVC\n"
          ],
          "name": "stdout"
        },
        {
          "output_type": "display_data",
          "data": {
            "image/png": "[encoded data removed]",
            "text/plain": [
              "<Figure size 288x288 with 2 Axes>"
            ]
          },
          "metadata": {
            "tags": [],
            "needs_background": "light"
          }
        },
        {
          "output_type": "stream",
          "text": [
            "              precision    recall  f1-score   support\n",
            "\n",
            "       Agree       0.52      0.47      0.49        70\n",
            "    Disagree       0.63      0.39      0.48        31\n",
            "     Discuss       0.66      0.72      0.69       166\n",
            "   Unrelated       0.67      0.68      0.67       139\n",
            "\n",
            "    accuracy                           0.64       406\n",
            "   macro avg       0.62      0.56      0.58       406\n",
            "weighted avg       0.64      0.64      0.63       406\n",
            "\n",
            "accuracy :  0.6379310344827587\n",
            "weighted f1 score :  0.6334370004218493\n",
            "With the features : similarity_important_words_more_than2_parts_root_distance_bow_\n"
          ],
          "name": "stdout"
        }
      ]
    },
    {
      "cell_type": "markdown",
      "metadata": {
        "id": "9rdGPilJW2IS"
      },
      "source": [
        "### RandomForestClassifier"
      ]
    },
    {
      "cell_type": "code",
      "metadata": {
        "id": "jJsrbDJdTwqR",
        "outputId": "a1c1dcbf-20b0-4ff6-b90c-4c184d4414c4",
        "colab": {
          "base_uri": "https://localhost:8080/",
          "height": 619
        }
      },
      "source": [
        "model = RandomForestClassifier(bootstrap=True, ccp_alpha=0.0,\n",
        "                       class_weight='balanced_subsample', criterion='gini',\n",
        "                       max_depth=None, max_features='auto', max_leaf_nodes=None,\n",
        "                       max_samples=None, min_impurity_decrease=0.0,\n",
        "                       min_impurity_split=None, min_samples_leaf=1,\n",
        "                       min_samples_split=2, min_weight_fraction_leaf=0.0,\n",
        "                       n_estimators=75, n_jobs=None, oob_score=False,\n",
        "                       random_state=None, verbose=0, warm_start=False)      \n",
        "result = common_train_test(model = model, X=features, Y=labels, test_size = 0.2\n",
        "                           , additional_description = 'With the features : '+ features_name\n",
        "                           , save_datasets = True, save_path = train_test_sets_save_path\n",
        "                           , load_if_exist = True, load_path = train_test_sets_load_path\n",
        "                           , features_name = features_name)"
      ],
      "execution_count": null,
      "outputs": [
        {
          "output_type": "stream",
          "text": [
            "X_train loaded successfully.\n",
            "X_test loaded successfully.\n",
            "y_train loaded successfully.\n",
            "y_test loaded successfully.\n",
            "Train and test sets loaded successfully.\n",
            "RandomForestClassifier\n"
          ],
          "name": "stdout"
        },
        {
          "output_type": "display_data",
          "data": {
            "image/png": "[encoded data removed]",
            "text/plain": [
              "<Figure size 288x288 with 2 Axes>"
            ]
          },
          "metadata": {
            "tags": [],
            "needs_background": "light"
          }
        },
        {
          "output_type": "stream",
          "text": [
            "              precision    recall  f1-score   support\n",
            "\n",
            "       Agree       0.62      0.59      0.60        70\n",
            "    Disagree       0.75      0.39      0.51        31\n",
            "     Discuss       0.78      0.67      0.72       166\n",
            "   Unrelated       0.64      0.83      0.72       139\n",
            "\n",
            "    accuracy                           0.69       406\n",
            "   macro avg       0.70      0.62      0.64       406\n",
            "weighted avg       0.70      0.69      0.68       406\n",
            "\n",
            "accuracy :  0.6896551724137931\n",
            "weighted f1 score :  0.6849083879539749\n",
            "With the features : similarity_important_words_more_than2_parts_root_distance_bow_\n"
          ],
          "name": "stdout"
        }
      ]
    },
    {
      "cell_type": "markdown",
      "metadata": {
        "id": "jm7cJaoPW9nh"
      },
      "source": [
        "### Linear SVC"
      ]
    },
    {
      "cell_type": "code",
      "metadata": {
        "id": "YsfJD2TpTzoS",
        "outputId": "0b19a75c-90b7-4957-c964-af6aa12add99",
        "colab": {
          "base_uri": "https://localhost:8080/",
          "height": 619
        }
      },
      "source": [
        "model = LinearSVC(C=1, class_weight='balanced', dual=True, fit_intercept=True,\n",
        "          intercept_scaling=1, loss='squared_hinge', max_iter=1200,\n",
        "          multi_class='ovr', penalty='l2', random_state=None, tol=0.0001,\n",
        "          verbose=0)\n",
        "result = common_train_test(model = model, X=features, Y=labels, test_size = 0.2\n",
        "                           , additional_description = 'With the features : '+ features_name\n",
        "                           , save_datasets = True, save_path = train_test_sets_save_path\n",
        "                           , load_if_exist = True, load_path = train_test_sets_load_path\n",
        "                           , features_name = features_name)"
      ],
      "execution_count": null,
      "outputs": [
        {
          "output_type": "stream",
          "text": [
            "X_train loaded successfully.\n",
            "X_test loaded successfully.\n",
            "y_train loaded successfully.\n",
            "y_test loaded successfully.\n",
            "Train and test sets loaded successfully.\n",
            "LinearSVC\n"
          ],
          "name": "stdout"
        },
        {
          "output_type": "display_data",
          "data": {
            "image/png": "[encoded data removed]",
            "text/plain": [
              "<Figure size 288x288 with 2 Axes>"
            ]
          },
          "metadata": {
            "tags": [],
            "needs_background": "light"
          }
        },
        {
          "output_type": "stream",
          "text": [
            "              precision    recall  f1-score   support\n",
            "\n",
            "       Agree       0.41      0.47      0.44        70\n",
            "    Disagree       0.68      0.61      0.64        31\n",
            "     Discuss       0.70      0.70      0.70       166\n",
            "   Unrelated       0.67      0.62      0.64       139\n",
            "\n",
            "    accuracy                           0.63       406\n",
            "   macro avg       0.61      0.60      0.61       406\n",
            "weighted avg       0.64      0.63      0.63       406\n",
            "\n",
            "accuracy :  0.6280788177339901\n",
            "weighted f1 score :  0.630715479326273\n",
            "With the features : similarity_important_words_more_than2_parts_root_distance_bow_\n"
          ],
          "name": "stdout"
        }
      ]
    },
    {
      "cell_type": "markdown",
      "metadata": {
        "id": "vt28l1ESXCf6"
      },
      "source": [
        "### Logistic Regression"
      ]
    },
    {
      "cell_type": "code",
      "metadata": {
        "id": "OkIzueGpT0Kh"
      },
      "source": [
        "# with \"l1_ratio\": ['None']\n",
        "model = LogisticRegression(C=1, class_weight='balanced', dual=False, fit_intercept=True,\n",
        "                   intercept_scaling=1, l1_ratio=None, max_iter=1000,\n",
        "                   multi_class='ovr', n_jobs=None, penalty='l1',\n",
        "                   random_state=None, solver='saga', tol=0.0001, verbose=0,\n",
        "                   warm_start=False, l1_ratio= 0.1)\n",
        "result = common_train_test(model = model, X=features, Y=labels, test_size = 0.2\n",
        "                           , additional_description = 'With the features : '+ features_name\n",
        "                           , save_datasets = True, save_path = train_test_sets_save_path\n",
        "                           , load_if_exist = True, load_path = train_test_sets_load_path\n",
        "                           , features_name = features_name)"
      ],
      "execution_count": null,
      "outputs": []
    },
    {
      "cell_type": "markdown",
      "metadata": {
        "id": "o-gKJG86XHiB"
      },
      "source": [
        "### Gussian Naive Bays"
      ]
    },
    {
      "cell_type": "code",
      "metadata": {
        "id": "58Q68YeOT1MO"
      },
      "source": [
        "model = GaussianNB()\n",
        "result = common_train_test(model = model, X=features, Y=labels, test_size = 0.2\n",
        "                           , additional_description = 'With the features : '+ features_name\n",
        "                           , save_datasets = True, save_path = train_test_sets_save_path\n",
        "                           , load_if_exist = True, load_path = train_test_sets_load_path\n",
        "                           , features_name = features_name)"
      ],
      "execution_count": null,
      "outputs": []
    },
    {
      "cell_type": "code",
      "metadata": {
        "id": "usb6QBbfJUmq"
      },
      "source": [
        "# function ClickConnect(){\n",
        "# console.log(\"Clicking\");\n",
        "# document.querySelector(\"colab-connect-button\").click()\n",
        "# }\n",
        "# setInterval(ClickConnect,60000)"
      ],
      "execution_count": null,
      "outputs": []
    },
    {
      "cell_type": "code",
      "metadata": {
        "id": "zgjC9hU0JXHL"
      },
      "source": [
        ""
      ],
      "execution_count": null,
      "outputs": []
    }
  ]
}