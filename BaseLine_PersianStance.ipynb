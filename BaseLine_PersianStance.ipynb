{
 "cells": [
  {
   "cell_type": "markdown",
   "metadata": {},
   "source": [
    "# Persian Stance Classification - Baselines"
   ]
  },
  {
   "cell_type": "code",
   "execution_count": 0,
   "metadata": {
    "colab": {},
    "colab_type": "code",
    "id": "cDCicXOaW-GY",
    "outputId": "a1d9976b-8658-4908-e04e-45be37b14997"
   },
   "outputs": [
    {
     "name": "stdout",
     "output_type": "stream",
     "text": [
      "number of samples :  2030\n"
     ]
    }
   ],
   "source": [
    "import glob\n",
    "import numpy as np\n",
    "import pandas as pd\n",
    "\n",
    "# txt to CSV\n",
    "\n",
    "data_path = \"dataset/headline.txt\"\n",
    "csv_path = \"dataset/dataset.csv\"\n",
    "\n",
    "data_file = glob.glob(data_path)\n",
    "\n",
    "row_documents = []\n",
    "cnt = 1\n",
    "for file in data_file:\n",
    "    with open (file, \"r\", encoding=\"utf-8\") as fp:\n",
    "        line = fp.readline()\n",
    "        while line:\n",
    "            row_documents.append(line.strip())\n",
    "#             print(\"Line {}: {}\".format(cnt, line.strip()))\n",
    "            line = fp.readline()\n",
    "            cnt += 1\n",
    "print(\"number of samples : \", cnt)\n",
    "row_doc = np.asarray(row_documents)"
   ]
  },
  {
   "cell_type": "code",
   "execution_count": 0,
   "metadata": {
    "colab": {},
    "colab_type": "code",
    "id": "EzO5pOitW-Gh"
   },
   "outputs": [],
   "source": [
    "# for row in row_doc:\n",
    "#     print(row.split(',')[4])"
   ]
  },
  {
   "cell_type": "markdown",
   "metadata": {
    "colab_type": "text",
    "id": "PN0e7Km_W-Gl"
   },
   "source": [
    "<h1>txt file to csv file</h1>"
   ]
  },
  {
   "cell_type": "code",
   "execution_count": 0,
   "metadata": {
    "colab": {},
    "colab_type": "code",
    "id": "2CEIu8ceW-Gm",
    "outputId": "2d75521c-2c97-4cdb-8dc8-209f273cafcc"
   },
   "outputs": [
    {
     "name": "stdout",
     "output_type": "stream",
     "text": [
      "number of samples :  2030\n",
      "converting text data to csv file..\n",
      "done!\n"
     ]
    }
   ],
   "source": [
    "import glob\n",
    "import numpy as np\n",
    "import pandas as pd\n",
    "\n",
    "# txt to CSV\n",
    "\n",
    "data_path = \"dataset/headline.txt\"\n",
    "csv_path = \"dataset/dataset.csv\"\n",
    "\n",
    "data_file = glob.glob(data_path)\n",
    "\n",
    "row_documents = []\n",
    "cnt = 1\n",
    "for file in data_file:\n",
    "    with open (file, \"r\", encoding=\"utf-8\") as fp:\n",
    "        line = fp.readline()\n",
    "        while line:\n",
    "            row_documents.append(line.strip())\n",
    "#             print(\"Line {}: {}\".format(cnt, line.strip()))\n",
    "            line = fp.readline()\n",
    "            cnt += 1\n",
    "print(\"number of samples : \", cnt)\n",
    "row_doc = np.asarray(row_documents)\n",
    "\n",
    "print('converting text data to csv file..')\n",
    "claim = []\n",
    "headline = []\n",
    "question = []\n",
    "part = []\n",
    "bodytxt = []\n",
    "index = []\n",
    "label = []    \n",
    "i = 0\n",
    "\n",
    "for row in row_doc:\n",
    "    claim.append(row.split(',')[0])\n",
    "    headline.append(row.split(',')[1])\n",
    "    question.append(row.split(',')[2])\n",
    "    part.append(row.split(',')[3])\n",
    "    bodytxt.append(row.split(',')[4])\n",
    "    label.append(row.split(',')[-1])\n",
    "    index.append(i)\n",
    "    i += 1\n",
    "    \n",
    "Dataset = list(zip(index, claim, headline, question, part, bodytxt, label))\n",
    "np.random.shuffle(Dataset)\n",
    "    \n",
    "df = pd.DataFrame(data = Dataset, columns=['index', 'claim', 'headline', 'question', 'part', 'body', 'label'])\n",
    "df.to_csv(csv_path, index=False, encoding=\"utf-8\")\n",
    "\n",
    "print('done!')"
   ]
  },
  {
   "cell_type": "code",
   "execution_count": 0,
   "metadata": {
    "colab": {},
    "colab_type": "code",
    "id": "utEH8IrsW-Gr"
   },
   "outputs": [],
   "source": [
    "# pd.read_csv(csv_path, encoding=\"utf-8\")"
   ]
  },
  {
   "cell_type": "markdown",
   "metadata": {
    "colab_type": "text",
    "id": "-gVYrLfwW-Gv"
   },
   "source": [
    "<h1>cleaning data<h1>"
   ]
  },
  {
   "cell_type": "code",
   "execution_count": 0,
   "metadata": {
    "colab": {},
    "colab_type": "code",
    "id": "XcKtOmUOW-Gw"
   },
   "outputs": [],
   "source": [
    "import pandas as pd\n",
    "df = pd.read_csv('dataset.csv')\n",
    "# df.head()\n",
    "claims = df['claim'].values\n",
    "headlines = df['headline'].values\n",
    "question = df['question'].values\n",
    "part = df['part'].values\n",
    "bodies = df['body'].values\n",
    "labels = df['label'].values"
   ]
  },
  {
   "cell_type": "code",
   "execution_count": 0,
   "metadata": {
    "colab": {},
    "colab_type": "code",
    "id": "OCSF9mkQW-Gz",
    "outputId": "a22268f6-e26b-49f3-c333-a8c39fdb6e97"
   },
   "outputs": [
    {
     "name": "stdout",
     "output_type": "stream",
     "text": [
      "Use device: gpu\n",
      "---\n",
      "Loading: tokenize\n",
      "With settings: \n",
      "{'model_path': 'C:\\\\Users\\\\Samane\\\\stanfordnlp_resources\\\\fa_seraji_models\\\\fa_seraji_tokenizer.pt', 'lang': 'fa', 'shorthand': 'fa_seraji', 'mode': 'predict'}\n",
      "---\n",
      "Loading: lemma\n",
      "With settings: \n",
      "{'model_path': 'C:\\\\Users\\\\Samane\\\\stanfordnlp_resources\\\\fa_seraji_models\\\\fa_seraji_lemmatizer.pt', 'lang': 'fa', 'shorthand': 'fa_seraji', 'mode': 'predict'}\n",
      "Building an attentional Seq2Seq model...\n",
      "Using a Bi-LSTM encoder\n",
      "Using soft attention for LSTM.\n",
      "Finetune all embeddings.\n",
      "[Running seq2seq lemmatizer with edit classifier]\n",
      "Done loading processors!\n",
      "---\n"
     ]
    }
   ],
   "source": [
    "import stanfordnlp\n",
    "nlp = stanfordnlp.Pipeline(lang='fa', models_dir='C:\\\\Users\\\\Samane\\\\stanfordnlp_resources', treebank=None, use_gpu=True) "
   ]
  },
  {
   "cell_type": "code",
   "execution_count": 0,
   "metadata": {
    "colab": {},
    "colab_type": "code",
    "id": "MGoEjbqyW-G4"
   },
   "outputs": [],
   "source": [
    "def lemmatize(text):\n",
    "    lemma_text = []\n",
    "    for t in range(len(text)):\n",
    "        doc = nlp(text[t])\n",
    "        lemmas = \"\"\n",
    "        for s in range(len(doc.sentences)):\n",
    "            sen = doc.sentences[s]\n",
    "            for i in range(len(sen.words)):\n",
    "                if sen.words[i].lemma != None:\n",
    "                    lemmas = lemmas + \" \" + sen.words[i].lemma\n",
    "                else:\n",
    "                    lemmas = lemmas + \" \" + sen.words[i].text\n",
    "        lemma_text.append(lemmas)\n",
    "    return lemma_text\n",
    "\n",
    "def nodigit_data(text):\n",
    "    nodigit_data = []\n",
    "    for i in range(len(text)):\n",
    "        s = text[i]\n",
    "        result = ''.join([i for i in s if not i.isdigit()])\n",
    "        nodigit_data.append(result)\n",
    "    return nodigit_data\n",
    "\n",
    "\n",
    "from __future__ import unicode_literals\n",
    "from hazm import *\n",
    "\n",
    "k = []\n",
    "with open('dataset/stopWords.txt', 'r', encoding=\"utf-8\") as f:\n",
    "    for word in f:\n",
    "        word = word.split('\\n')\n",
    "        k.append(word[0])\n",
    "        \n",
    "def remove_stopwords(text):\n",
    "    sw_data = []\n",
    "    for i in text:\n",
    "        for j in k:\n",
    "            if j in word_tokenize(i):\n",
    "                i.replace(j, '')\n",
    "        sw_data.append(i)\n",
    "    return sw_data\n",
    "\n",
    "\n",
    "def remove_slash(text):\n",
    "    ext_data = []\n",
    "    for i in text:\n",
    "        if '/' in i:\n",
    "            spl = i.split('/')\n",
    "            if 'شایعه' in spl[-1]:\n",
    "                i = i.replace(spl[-1], '')\n",
    "        ext_data.append(i)\n",
    "    return ext_data\n",
    "\n",
    "\n",
    "import re\n",
    "r = re.compile(\"[\\!\\;,،؛.+»«<>|\\#(\\)\\-\\/\\'\\\"]\")\n",
    "def remove_punc(text):\n",
    "    punc = []\n",
    "    for i in text:\n",
    "        punc.append(r.sub(\"\", i))\n",
    "    return punc\n",
    "\n",
    "extra_str = ['\\u200c', '\\u200d', '\\u200e', '\\u200b']\n",
    "def clean_data(text):\n",
    "    \n",
    "    text = nodigit_data(remove_punc(remove_slash(remove_stopwords(text))))\n",
    "    \n",
    "    clean_data = []\n",
    "    for i in text:\n",
    "        for j in extra_str:\n",
    "            if j in i:\n",
    "                i = i.replace(j,'')\n",
    "        clean_data.append(i)\n",
    "        \n",
    "    clean_data = lemmatize(clean_data)\n",
    "    return clean_data"
   ]
  },
  {
   "cell_type": "code",
   "execution_count": 0,
   "metadata": {
    "colab": {},
    "colab_type": "code",
    "id": "sX_K7yk0W-G7"
   },
   "outputs": [],
   "source": [
    "cln_headline = clean_data(headlines)\n",
    "cln_claim = clean_data(claims)"
   ]
  },
  {
   "cell_type": "code",
   "execution_count": 0,
   "metadata": {
    "colab": {},
    "colab_type": "code",
    "id": "DzTWDReHW-G_"
   },
   "outputs": [],
   "source": [
    "# data_text"
   ]
  },
  {
   "cell_type": "code",
   "execution_count": 0,
   "metadata": {
    "colab": {},
    "colab_type": "code",
    "id": "me762YzBW-HJ"
   },
   "outputs": [],
   "source": [
    "headline_claim = df['headline'].values + df['claim'].values\n",
    "headline_claim = clean_data(headline_claim)"
   ]
  },
  {
   "cell_type": "code",
   "execution_count": 0,
   "metadata": {
    "colab": {},
    "colab_type": "code",
    "id": "zU2xB062W-HS",
    "outputId": "ee2e2c43-61a7-421e-8fb5-25cc73b8b1ec"
   },
   "outputs": [
    {
     "data": {
      "text/plain": [
       "' توزیع شکلات میوه ای مخدر در بازار و مدارس'"
      ]
     },
     "execution_count": 76,
     "metadata": {
      "tags": []
     },
     "output_type": "execute_result"
    }
   ],
   "source": [
    "cln_claim[0]"
   ]
  },
  {
   "cell_type": "code",
   "execution_count": 0,
   "metadata": {
    "colab": {},
    "colab_type": "code",
    "id": "XJoTfaCRW-Hb"
   },
   "outputs": [],
   "source": [
    "# headline_body = df['headline'].values + df['body'].values\n",
    "# headline_body = clean_data(headline_body)"
   ]
  },
  {
   "cell_type": "code",
   "execution_count": 0,
   "metadata": {
    "colab": {},
    "colab_type": "code",
    "id": "b_HL9tTUW-Hm"
   },
   "outputs": [],
   "source": [
    "def Q_T(text):\n",
    "    features = np.zeros((len(text), 2))\n",
    "    for i in range(len(text)):\n",
    "        features[0][i] = question[i]\n",
    "        features[1][i] = part[i]\n",
    "    return features"
   ]
  },
  {
   "cell_type": "code",
   "execution_count": 0,
   "metadata": {
    "colab": {},
    "colab_type": "code",
    "id": "zBKkLg7KW-Hr"
   },
   "outputs": [],
   "source": [
    "# aa = np.zeros((len(cln_claim), 2))\n",
    "# aa[0][20]"
   ]
  },
  {
   "cell_type": "code",
   "execution_count": 0,
   "metadata": {
    "colab": {},
    "colab_type": "code",
    "id": "qK1mnSgbW-Hy"
   },
   "outputs": [],
   "source": [
    "# Q_T(cln_claim)"
   ]
  },
  {
   "cell_type": "code",
   "execution_count": 0,
   "metadata": {
    "colab": {},
    "colab_type": "code",
    "id": "uNFhKNVBW-H6"
   },
   "outputs": [],
   "source": [
    "tags = ['Agree','Discuss','Disagree','Unrelated']"
   ]
  },
  {
   "cell_type": "markdown",
   "metadata": {
    "colab_type": "text",
    "id": "FLgl5BJ4W-IB"
   },
   "source": [
    "<h1>features</h1>"
   ]
  },
  {
   "cell_type": "code",
   "execution_count": 0,
   "metadata": {
    "colab": {},
    "colab_type": "code",
    "id": "imtVCkqoW-IE",
    "outputId": "f9728a3d-7a9c-48f5-daa8-425806bbf1ba"
   },
   "outputs": [
    {
     "name": "stderr",
     "output_type": "stream",
     "text": [
      "G:\\Anaconda3\\lib\\site-packages\\gensim\\utils.py:1197: UserWarning: detected Windows; aliasing chunkize to chunkize_serial\n",
      "  warnings.warn(\"detected Windows; aliasing chunkize to chunkize_serial\")\n"
     ]
    }
   ],
   "source": [
    "from sklearn.externals import joblib\n",
    "w2v_model = joblib.load(\"../w2v_persian.pkl\")"
   ]
  },
  {
   "cell_type": "code",
   "execution_count": 0,
   "metadata": {
    "colab": {},
    "colab_type": "code",
    "id": "hipQLc-JW-IM"
   },
   "outputs": [],
   "source": [
    "from sklearn.feature_extraction.text import CountVectorizer\n",
    "from sklearn.feature_extraction.text import TfidfVectorizer\n",
    "import numpy as np\n",
    "\n",
    "def BOW(text):\n",
    "    vectorizer = CountVectorizer(ngram_range=(1, 2))\n",
    "    X = vectorizer.fit_transform(text)\n",
    "    X = X.toarray()\n",
    "    return X\n",
    "\n",
    "def word2vec(text):\n",
    "    text_vec = []\n",
    "    for i in text:\n",
    "        word = []\n",
    "        for j in word_tokenize(i):\n",
    "            if j in w2v_model.vocab:\n",
    "                tmp = np.mean(w2v_model.get_vector(j))\n",
    "                word.append(tmp)\n",
    "        text_vec.append(word)\n",
    "    return text_vec\n",
    "    \n",
    "def tf_idf(text):\n",
    "    tfidf = TfidfVectorizer(sublinear_tf=True, min_df=10, norm='l2', ngram_range=(1, 2))\n",
    "    features = tfidf.fit_transform(text).toarray()\n",
    "    return features\n",
    "\n",
    "from difflib import SequenceMatcher\n",
    "def similarity(text1, text2):\n",
    "    feature = []\n",
    "    for i in range(len(text1)):\n",
    "        tmp = SequenceMatcher(None, text1[i], text2[i]).ratio()\n",
    "        feature.append(tmp)\n",
    "    return feature\n",
    "\n",
    "\n",
    "important_words = ['؟',\n",
    "             'تکذیب',\n",
    "             'تکذیب شد',\n",
    "             ':',\n",
    "             ]\n",
    "\n",
    "def imp_words(text):\n",
    "    features = np.zeros((len(text), len(important_words)))\n",
    "    for i in range(len(text)):\n",
    "        for j in range(len(important_words)):\n",
    "            if important_words[j] in text[i]:\n",
    "                features[i][j] = 10\n",
    "    return features\n",
    "\n",
    "\n",
    "def Q_T(text):\n",
    "    features = np.zeros((len(text), 2))\n",
    "    for i in range(len(text)):\n",
    "        features[i][0] = question[i]\n",
    "        features[i][1] = part[i]\n",
    "    return features\n",
    "\n",
    "\n",
    "# Function to average all word vectors in a paragraph\n",
    "def featureVecMethod(words, model, num_features):\n",
    "    # Pre-initialising empty numpy array for speed\n",
    "    featureVec = np.zeros(num_features,dtype=\"float32\")\n",
    "    nwords = 0\n",
    "    #Converting Index2Word which is a list to a set for better speed in the execution.\n",
    "    index2word_set = set(model.wv.index2word)\n",
    "    \n",
    "    for word in  words:\n",
    "        if word in index2word_set:\n",
    "            nwords = nwords + 1\n",
    "            featureVec = np.add(featureVec,model[word])\n",
    "    \n",
    "    # Dividing the result by number of words to get average\n",
    "    featureVec = np.divide(featureVec, nwords)\n",
    "    return featureVec\n",
    "\n",
    "\n",
    "# Function for calculating the average feature vector\n",
    "def getAvgFeatureVecs(reviews, model, num_features):\n",
    "    counter = 0\n",
    "    reviewFeatureVecs = np.zeros((len(reviews),num_features),dtype=\"float32\")\n",
    "    for review in reviews:\n",
    "        # Printing a status message every 10000th review\n",
    "        if counter%1000 == 0:\n",
    "            print(\"data %d of %d\"%(counter,len(reviews)))\n",
    "            \n",
    "        reviewFeatureVecs[counter] = featureVecMethod(review, model, num_features)\n",
    "        counter = counter+1\n",
    "        \n",
    "    return reviewFeatureVecs"
   ]
  },
  {
   "cell_type": "code",
   "execution_count": 0,
   "metadata": {
    "colab": {},
    "colab_type": "code",
    "id": "pBNxTaLmW-IU",
    "outputId": "09ac41d4-0bbd-461b-cfb2-fd6ed742b8b7"
   },
   "outputs": [
    {
     "name": "stdout",
     "output_type": "stream",
     "text": [
      "w2v feature..\n",
      "data 0 of 2029\n"
     ]
    },
    {
     "name": "stderr",
     "output_type": "stream",
     "text": [
      "G:\\Anaconda3\\lib\\site-packages\\ipykernel_launcher.py:65: DeprecationWarning: Call to deprecated `wv` (Attribute will be removed in 4.0.0, use self instead).\n"
     ]
    },
    {
     "name": "stdout",
     "output_type": "stream",
     "text": [
      "data 1000 of 2029\n",
      "data 2000 of 2029\n",
      "done\n"
     ]
    }
   ],
   "source": [
    "print('w2v feature..')\n",
    "# hc_w2v_fea = word2vec(headline_claim)\n",
    "# hc_w2v_fea = np.asarray(hc_w2v_fea)\n",
    "hc_w2v_fea = getAvgFeatureVecs(headline_claim, w2v_model, num_features = 300)\n",
    "hc_w2v_fea = (hc_w2v_fea - np.min(hc_w2v_fea))/ (np.max(hc_w2v_fea) - np.min(hc_w2v_fea))\n",
    "print('done')"
   ]
  },
  {
   "cell_type": "markdown",
   "metadata": {
    "colab_type": "text",
    "id": "HxdSowOnj4rD"
   },
   "source": [
    "<h2>Root Distance</h2>"
   ]
  },
  {
   "cell_type": "code",
   "execution_count": 0,
   "metadata": {
    "colab": {},
    "colab_type": "code",
    "id": "tEaX1NYFj4rF"
   },
   "outputs": [],
   "source": [
    "import itertools\n",
    "important_words = ['جعلی',\n",
    "                   'تقلب',\n",
    "                   'فریب',\n",
    "                   'حیله',\n",
    "                   'کلاهبرداری',\n",
    "                   'شیادی',\n",
    "                   'دست انداختن',\n",
    "                   'گول زدن',\n",
    "                   'نادرست',\n",
    "                   'غلط',\n",
    "                   'کذب',\n",
    "                   'ساختگی',\n",
    "                   'قلابی',\n",
    "                   'انکار',\n",
    "                   'رد',\n",
    "                   'تکذیب',\n",
    "                   'تکذیب کردن',\n",
    "                   'تکذیب شد',\n",
    "                   'انکار کردن'\n",
    "                   'انکار می کند',\n",
    "                   'نه',\n",
    "                   'با وجود',\n",
    "                   'علیرغم',\n",
    "                   'با اینکه',\n",
    "                   'شک داشتن',\n",
    "                   'تردید کردن',\n",
    "                   'مظنون بودن',\n",
    "                   'شک',\n",
    "                   'تردید',\n",
    "                   'دو دلی',\n",
    "                   'گمان',\n",
    "                   'به گزارش'\n",
    "                   ,'ادعا شده'\n",
    "                   ,'به قول معروف'\n",
    "                   ,'بنا به گفته'\n",
    "                   , 'ظاهرا'\n",
    "                   ,'به نظر می رسد'\n",
    "                   ,'ادعا'\n",
    "                   ,'میتوانست'\n",
    "                   ,'می تواند'\n",
    "                   ,'از قرار معلوم'\n",
    "                   ,'مشخصا'\n",
    "                   ,'تا حد زیادی'\n",
    "                   ,'احتمال دارد'\n",
    "                   ,'شاید'\n",
    "                   ,'به طور عمده'\n",
    "                   ,'ممکن است'\n",
    "                   ,'گویا'\n",
    "                   ,'ممکن'\n",
    "                   ,'اغلب'\n",
    "                   ,'غالبا'\n",
    "                   ,'احتمالا'\n",
    "                   ,'احتمالاً'\n",
    "                   ,'محتملا'\n",
    "                   ,'گفته شده'\n",
    "                   ,'گزارش داد'\n",
    "                   ,'طبق گزارش'\n",
    "                   ,'شایعه'\n",
    "                   ,'شایعات'\n",
    "                   ,'شایعه شده'\n",
    "                   ,'قدری'\n",
    "                   ,'تا حدی'\n",
    "                   ,'تأیید نشده'\n",
    "]\n",
    "\n",
    "                  ]\n",
    "def get_distance(w1, words, w2):\n",
    "  words = word_tokenize(words)\n",
    "  w1 = w1[0]\n",
    "  w2 = w2[0]\n",
    "  if w1 in words and w2 in words:\n",
    "    w1_indexes = [index for index, value in enumerate(words) if value == w1]   \n",
    "    w2_indexes = [index for index, value in enumerate(words) if value == w2]    \n",
    "    distances = [abs(item[0] - item[1]) for item in itertools.product(w1_indexes, w2_indexes)]\n",
    "    if min(distances) == None:\n",
    "      return 0\n",
    "    return min(distances)\n",
    "\n",
    "def RootDist(txt):\n",
    "  feature = []\n",
    "  for t in range(len(txt)):\n",
    "    imp_word = [important_words[i] for i in range(len(important_words)) if important_words[i] in txt[t]]\n",
    "    if imp_word != []:\n",
    "      doc = nlp(txt[t])\n",
    "      root_word = [doc.sentences[0].words[i].text for i in range(len(doc.sentences[0].words)) if  doc.sentences[0].words[i].dependency_relation == 'root' ]\n",
    "      root_dist = get_distance(root_word, txt[t], imp_word)\n",
    "      feature.append(root_dist)\n",
    "    if imp_word == []:\n",
    "      feature.append(0)\n",
    "  feature = [0 if v is None else v for v in feature]\n",
    "  return feature\n",
    "\n",
    "\n",
    "print('root distance feature..')\n",
    "hc_rootD = RootDist(cln_headline)\n",
    "hc_rootD = np.reshape(hc_rootD,(len(hc_rootD),1))\n",
    "print('done')"
   ]
  },
  {
   "cell_type": "code",
   "execution_count": 0,
   "metadata": {
    "colab": {},
    "colab_type": "code",
    "id": "kr_iPhOkW-Ij",
    "outputId": "b50c8b9e-4d98-4ee9-8fd3-75786e6bab06"
   },
   "outputs": [
    {
     "name": "stdout",
     "output_type": "stream",
     "text": [
      "similarity feature..\n",
      "done\n",
      "BOW feature..\n",
      "done\n",
      "tfidf feature..\n",
      "done\n",
      "important words feature..\n",
      "done\n",
      "question part ..\n",
      "done\n",
      "BOW feature for headline_claim :  (2029, 21131)\n",
      "tfidf feature for headline_claim :  (2029, 703)\n",
      "w2v feature for headline_claim :  (2029, 307)\n"
     ]
    }
   ],
   "source": [
    "## hc --> headline_claim\n",
    "print('similarity feature..')\n",
    "hc_simi = similarity(cln_headline, cln_claim)\n",
    "hc_simi = np.reshape(hc_simi,(len(hc_simi),1))\n",
    "print('done')\n",
    "\n",
    "print('BOW feature..')\n",
    "hc_bow_fea = BOW(headline_claim)\n",
    "print('done')\n",
    "\n",
    "\n",
    "print('tfidf feature..')\n",
    "hc_tfidf_fea = tf_idf(headline_claim)\n",
    "print('done')\n",
    "\n",
    "print('important words feature..')\n",
    "hc_word_fea = imp_words(headline_claim)\n",
    "print('done')\n",
    "\n",
    "print('question part ..')\n",
    "hc_qp = Q_T(headline_claim)\n",
    "print('done')\n",
    "\n",
    "## add similarity and important word features to another features vec\n",
    "hc_bow = np.append(hc_bow_fea, hc_simi, axis=1)\n",
    "hc_bow = np.append(hc_bow, hc_word_fea, axis=1)\n",
    "hc_bow = np.append(hc_bow, hc_qp, axis=1)\n",
    "hc_bow = np.append(hc_bow, hc_rootD, axis=1)\n",
    "print('BOW feature for headline_claim : ', hc_bow.shape)\n",
    "\n",
    "hc_tfidf = np.append(hc_tfidf_fea, hc_simi, axis=1)\n",
    "hc_tfidf = np.append(hc_tfidf, hc_word_fea, axis=1)\n",
    "hc_tfidf = np.append(hc_tfidf, hc_qp, axis=1)\n",
    "hc_tfidf = np.append(hc_tfidf, hc_rootD, axis=1)\n",
    "print('tfidf feature for headline_claim : ', hc_tfidf.shape)\n",
    "\n",
    "\n",
    "hc_w2v = np.append(hc_w2v_fea, hc_simi, axis=1)\n",
    "hc_w2v = np.append(hc_w2v, hc_word_fea, axis=1)\n",
    "hc_w2v = np.append(hc_w2v, hc_qp, axis=1)\n",
    "hc_w2v = np.append(hc_w2v, hc_rootD, axis=1)\n",
    "print('w2v feature for headline_claim : ', hc_w2v.shape)\n"
   ]
  },
  {
   "cell_type": "code",
   "execution_count": 0,
   "metadata": {
    "colab": {},
    "colab_type": "code",
    "id": "YcJW3sWpW-Io",
    "outputId": "488c6881-4b2b-4574-860d-94ae4c87e15c"
   },
   "outputs": [
    {
     "data": {
      "text/plain": [
       "['vectors/hc_w2v.pkl']"
      ]
     },
     "execution_count": 93,
     "metadata": {
      "tags": []
     },
     "output_type": "execute_result"
    }
   ],
   "source": [
    "import joblib\n",
    "joblib.dump(hc_bow, \"vectors/hc_bow.pkl\")\n",
    "joblib.dump(hc_tfidf, \"vectors/hc_tfidf.pkl\")\n",
    "joblib.dump(hc_w2v, \"vectors/hc_w2v.pkl\")"
   ]
  },
  {
   "cell_type": "markdown",
   "metadata": {
    "colab_type": "text",
    "id": "8V9-cOA5W-Is"
   },
   "source": [
    "<h2>data distribution</h2>"
   ]
  },
  {
   "cell_type": "code",
   "execution_count": 0,
   "metadata": {
    "colab": {
     "base_uri": "https://localhost:8080/",
     "height": 258
    },
    "colab_type": "code",
    "id": "yu3PrG-bW-It",
    "outputId": "0175e6bf-9036-45ec-c053-ef21549c8877"
   },
   "outputs": [
    {
     "data": {
      "image/png": "[encoded data removed]",
      "text/plain": [
       "<Figure size 288x216 with 1 Axes>"
      ]
     },
     "metadata": {
      "tags": []
     },
     "output_type": "display_data"
    }
   ],
   "source": [
    "import matplotlib.pyplot as plt\n",
    "fig = plt.figure(figsize=(4,3))\n",
    "df.groupby('label').headline.count().plot.bar(ylim=0)\n",
    "plt.show()"
   ]
  },
  {
   "cell_type": "code",
   "execution_count": 0,
   "metadata": {
    "colab": {
     "base_uri": "https://localhost:8080/",
     "height": 123
    },
    "colab_type": "code",
    "id": "JFqtnJtXW-Ix",
    "outputId": "3d6c3b9c-e9dc-4d59-8152-d397313d1739"
   },
   "outputs": [
    {
     "data": {
      "text/plain": [
       "label\n",
       "Agree        405\n",
       "Disagree     164\n",
       "Discuss      802\n",
       "Unrelated    658\n",
       "Name: headline, dtype: int64"
      ]
     },
     "execution_count": 3,
     "metadata": {
      "tags": []
     },
     "output_type": "execute_result"
    }
   ],
   "source": [
    "df.groupby('label').headline.count()"
   ]
  },
  {
   "cell_type": "markdown",
   "metadata": {
    "colab_type": "text",
    "id": "kzICigd7W-I1"
   },
   "source": [
    "<h3>labels</h3>"
   ]
  },
  {
   "cell_type": "code",
   "execution_count": 0,
   "metadata": {
    "colab": {},
    "colab_type": "code",
    "id": "A-UOyW3tW-I2"
   },
   "outputs": [],
   "source": [
    "from io import StringIO\n",
    "col = ['headline', 'label']\n",
    "df = df[col]\n",
    "df = df[pd.notnull(df['headline'])]\n",
    "df.columns = ['headline', 'label']\n",
    "df['label_id'] = df['label'].factorize()[0]\n",
    "category_id_df = df[['label', 'label_id']].drop_duplicates().sort_values('label_id')\n",
    "category_to_id = dict(category_id_df.values)\n",
    "id_to_category = dict(category_id_df[['label_id', 'label']].values)\n",
    "# df.head()"
   ]
  },
  {
   "cell_type": "code",
   "execution_count": 0,
   "metadata": {
    "colab": {
     "base_uri": "https://localhost:8080/",
     "height": 35
    },
    "colab_type": "code",
    "id": "KWupcXYtZNQU",
    "outputId": "f69a9732-5e22-42c1-e31e-0bf48d2ec5cc"
   },
   "outputs": [
    {
     "name": "stdout",
     "output_type": "stream",
     "text": [
      "Requirement already satisfied: joblib in /usr/local/lib/python3.6/dist-packages (0.13.2)\n"
     ]
    }
   ],
   "source": [
    "!pip install joblib"
   ]
  },
  {
   "cell_type": "code",
   "execution_count": 0,
   "metadata": {
    "colab": {},
    "colab_type": "code",
    "id": "XPTMvk65W-I5"
   },
   "outputs": [],
   "source": [
    "import joblib\n",
    "hc_bow = joblib.load(\"hc_bow.pkl\")\n",
    "hc_tfidf = joblib.load(\"hc_tfidf.pkl\")\n",
    "hc_w2v = joblib.load(\"hc_w2v.pkl\")"
   ]
  },
  {
   "cell_type": "markdown",
   "metadata": {
    "colab_type": "text",
    "id": "pjRH8X6HW-I7"
   },
   "source": [
    "<h2>headline - claim</h2>"
   ]
  },
  {
   "cell_type": "code",
   "execution_count": 0,
   "metadata": {
    "colab": {
     "base_uri": "https://localhost:8080/",
     "height": 1824
    },
    "colab_type": "code",
    "id": "2HWAgqSVW-I8",
    "outputId": "376f4ee3-177b-4944-fe55-fe3f311864b9"
   },
   "outputs": [
    {
     "name": "stderr",
     "output_type": "stream",
     "text": [
      "/usr/local/lib/python3.6/dist-packages/sklearn/svm/base.py:931: ConvergenceWarning: Liblinear failed to converge, increase the number of iterations.\n",
      "  \"the number of iterations.\", ConvergenceWarning)\n",
      "/usr/local/lib/python3.6/dist-packages/sklearn/svm/base.py:931: ConvergenceWarning: Liblinear failed to converge, increase the number of iterations.\n",
      "  \"the number of iterations.\", ConvergenceWarning)\n",
      "/usr/local/lib/python3.6/dist-packages/sklearn/svm/base.py:931: ConvergenceWarning: Liblinear failed to converge, increase the number of iterations.\n",
      "  \"the number of iterations.\", ConvergenceWarning)\n",
      "/usr/local/lib/python3.6/dist-packages/sklearn/svm/base.py:931: ConvergenceWarning: Liblinear failed to converge, increase the number of iterations.\n",
      "  \"the number of iterations.\", ConvergenceWarning)\n",
      "/usr/local/lib/python3.6/dist-packages/sklearn/svm/base.py:931: ConvergenceWarning: Liblinear failed to converge, increase the number of iterations.\n",
      "  \"the number of iterations.\", ConvergenceWarning)\n",
      "/usr/local/lib/python3.6/dist-packages/sklearn/svm/base.py:931: ConvergenceWarning: Liblinear failed to converge, increase the number of iterations.\n",
      "  \"the number of iterations.\", ConvergenceWarning)\n",
      "/usr/local/lib/python3.6/dist-packages/sklearn/svm/base.py:931: ConvergenceWarning: Liblinear failed to converge, increase the number of iterations.\n",
      "  \"the number of iterations.\", ConvergenceWarning)\n",
      "/usr/local/lib/python3.6/dist-packages/sklearn/svm/base.py:931: ConvergenceWarning: Liblinear failed to converge, increase the number of iterations.\n",
      "  \"the number of iterations.\", ConvergenceWarning)\n",
      "/usr/local/lib/python3.6/dist-packages/sklearn/svm/base.py:931: ConvergenceWarning: Liblinear failed to converge, increase the number of iterations.\n",
      "  \"the number of iterations.\", ConvergenceWarning)\n",
      "/usr/local/lib/python3.6/dist-packages/sklearn/svm/base.py:931: ConvergenceWarning: Liblinear failed to converge, increase the number of iterations.\n",
      "  \"the number of iterations.\", ConvergenceWarning)\n",
      "/usr/local/lib/python3.6/dist-packages/sklearn/linear_model/logistic.py:433: FutureWarning: Default solver will be changed to 'lbfgs' in 0.22. Specify a solver to silence this warning.\n",
      "  FutureWarning)\n",
      "/usr/local/lib/python3.6/dist-packages/sklearn/linear_model/logistic.py:460: FutureWarning: Default multi_class will be changed to 'auto' in 0.22. Specify the multi_class option to silence this warning.\n",
      "  \"this warning.\", FutureWarning)\n",
      "/usr/local/lib/python3.6/dist-packages/sklearn/linear_model/logistic.py:433: FutureWarning: Default solver will be changed to 'lbfgs' in 0.22. Specify a solver to silence this warning.\n",
      "  FutureWarning)\n",
      "/usr/local/lib/python3.6/dist-packages/sklearn/linear_model/logistic.py:460: FutureWarning: Default multi_class will be changed to 'auto' in 0.22. Specify the multi_class option to silence this warning.\n",
      "  \"this warning.\", FutureWarning)\n",
      "/usr/local/lib/python3.6/dist-packages/sklearn/linear_model/logistic.py:433: FutureWarning: Default solver will be changed to 'lbfgs' in 0.22. Specify a solver to silence this warning.\n",
      "  FutureWarning)\n",
      "/usr/local/lib/python3.6/dist-packages/sklearn/linear_model/logistic.py:460: FutureWarning: Default multi_class will be changed to 'auto' in 0.22. Specify the multi_class option to silence this warning.\n",
      "  \"this warning.\", FutureWarning)\n",
      "/usr/local/lib/python3.6/dist-packages/sklearn/linear_model/logistic.py:433: FutureWarning: Default solver will be changed to 'lbfgs' in 0.22. Specify a solver to silence this warning.\n",
      "  FutureWarning)\n",
      "/usr/local/lib/python3.6/dist-packages/sklearn/linear_model/logistic.py:460: FutureWarning: Default multi_class will be changed to 'auto' in 0.22. Specify the multi_class option to silence this warning.\n",
      "  \"this warning.\", FutureWarning)\n",
      "/usr/local/lib/python3.6/dist-packages/sklearn/linear_model/logistic.py:433: FutureWarning: Default solver will be changed to 'lbfgs' in 0.22. Specify a solver to silence this warning.\n",
      "  FutureWarning)\n",
      "/usr/local/lib/python3.6/dist-packages/sklearn/linear_model/logistic.py:460: FutureWarning: Default multi_class will be changed to 'auto' in 0.22. Specify the multi_class option to silence this warning.\n",
      "  \"this warning.\", FutureWarning)\n",
      "/usr/local/lib/python3.6/dist-packages/sklearn/linear_model/logistic.py:433: FutureWarning: Default solver will be changed to 'lbfgs' in 0.22. Specify a solver to silence this warning.\n",
      "  FutureWarning)\n",
      "/usr/local/lib/python3.6/dist-packages/sklearn/linear_model/logistic.py:460: FutureWarning: Default multi_class will be changed to 'auto' in 0.22. Specify the multi_class option to silence this warning.\n",
      "  \"this warning.\", FutureWarning)\n",
      "/usr/local/lib/python3.6/dist-packages/sklearn/linear_model/logistic.py:433: FutureWarning: Default solver will be changed to 'lbfgs' in 0.22. Specify a solver to silence this warning.\n",
      "  FutureWarning)\n",
      "/usr/local/lib/python3.6/dist-packages/sklearn/linear_model/logistic.py:460: FutureWarning: Default multi_class will be changed to 'auto' in 0.22. Specify the multi_class option to silence this warning.\n",
      "  \"this warning.\", FutureWarning)\n",
      "/usr/local/lib/python3.6/dist-packages/sklearn/linear_model/logistic.py:433: FutureWarning: Default solver will be changed to 'lbfgs' in 0.22. Specify a solver to silence this warning.\n",
      "  FutureWarning)\n",
      "/usr/local/lib/python3.6/dist-packages/sklearn/linear_model/logistic.py:460: FutureWarning: Default multi_class will be changed to 'auto' in 0.22. Specify the multi_class option to silence this warning.\n",
      "  \"this warning.\", FutureWarning)\n",
      "/usr/local/lib/python3.6/dist-packages/sklearn/linear_model/logistic.py:433: FutureWarning: Default solver will be changed to 'lbfgs' in 0.22. Specify a solver to silence this warning.\n",
      "  FutureWarning)\n",
      "/usr/local/lib/python3.6/dist-packages/sklearn/linear_model/logistic.py:460: FutureWarning: Default multi_class will be changed to 'auto' in 0.22. Specify the multi_class option to silence this warning.\n",
      "  \"this warning.\", FutureWarning)\n",
      "/usr/local/lib/python3.6/dist-packages/sklearn/linear_model/logistic.py:433: FutureWarning: Default solver will be changed to 'lbfgs' in 0.22. Specify a solver to silence this warning.\n",
      "  FutureWarning)\n",
      "/usr/local/lib/python3.6/dist-packages/sklearn/linear_model/logistic.py:460: FutureWarning: Default multi_class will be changed to 'auto' in 0.22. Specify the multi_class option to silence this warning.\n",
      "  \"this warning.\", FutureWarning)\n",
      "/usr/local/lib/python3.6/dist-packages/sklearn/svm/base.py:196: FutureWarning: The default value of gamma will change from 'auto' to 'scale' in version 0.22 to account better for unscaled features. Set gamma explicitly to 'auto' or 'scale' to avoid this warning.\n",
      "  \"avoid this warning.\", FutureWarning)\n",
      "/usr/local/lib/python3.6/dist-packages/sklearn/svm/base.py:196: FutureWarning: The default value of gamma will change from 'auto' to 'scale' in version 0.22 to account better for unscaled features. Set gamma explicitly to 'auto' or 'scale' to avoid this warning.\n",
      "  \"avoid this warning.\", FutureWarning)\n",
      "/usr/local/lib/python3.6/dist-packages/sklearn/svm/base.py:196: FutureWarning: The default value of gamma will change from 'auto' to 'scale' in version 0.22 to account better for unscaled features. Set gamma explicitly to 'auto' or 'scale' to avoid this warning.\n",
      "  \"avoid this warning.\", FutureWarning)\n",
      "/usr/local/lib/python3.6/dist-packages/sklearn/svm/base.py:196: FutureWarning: The default value of gamma will change from 'auto' to 'scale' in version 0.22 to account better for unscaled features. Set gamma explicitly to 'auto' or 'scale' to avoid this warning.\n",
      "  \"avoid this warning.\", FutureWarning)\n",
      "/usr/local/lib/python3.6/dist-packages/sklearn/svm/base.py:196: FutureWarning: The default value of gamma will change from 'auto' to 'scale' in version 0.22 to account better for unscaled features. Set gamma explicitly to 'auto' or 'scale' to avoid this warning.\n",
      "  \"avoid this warning.\", FutureWarning)\n",
      "/usr/local/lib/python3.6/dist-packages/sklearn/svm/base.py:196: FutureWarning: The default value of gamma will change from 'auto' to 'scale' in version 0.22 to account better for unscaled features. Set gamma explicitly to 'auto' or 'scale' to avoid this warning.\n",
      "  \"avoid this warning.\", FutureWarning)\n",
      "/usr/local/lib/python3.6/dist-packages/sklearn/svm/base.py:196: FutureWarning: The default value of gamma will change from 'auto' to 'scale' in version 0.22 to account better for unscaled features. Set gamma explicitly to 'auto' or 'scale' to avoid this warning.\n",
      "  \"avoid this warning.\", FutureWarning)\n",
      "/usr/local/lib/python3.6/dist-packages/sklearn/svm/base.py:196: FutureWarning: The default value of gamma will change from 'auto' to 'scale' in version 0.22 to account better for unscaled features. Set gamma explicitly to 'auto' or 'scale' to avoid this warning.\n",
      "  \"avoid this warning.\", FutureWarning)\n",
      "/usr/local/lib/python3.6/dist-packages/sklearn/svm/base.py:196: FutureWarning: The default value of gamma will change from 'auto' to 'scale' in version 0.22 to account better for unscaled features. Set gamma explicitly to 'auto' or 'scale' to avoid this warning.\n",
      "  \"avoid this warning.\", FutureWarning)\n",
      "/usr/local/lib/python3.6/dist-packages/sklearn/svm/base.py:196: FutureWarning: The default value of gamma will change from 'auto' to 'scale' in version 0.22 to account better for unscaled features. Set gamma explicitly to 'auto' or 'scale' to avoid this warning.\n",
      "  \"avoid this warning.\", FutureWarning)\n",
      "/usr/local/lib/python3.6/dist-packages/seaborn/categorical.py:454: FutureWarning: remove_na is deprecated and is a private function. Do not use.\n",
      "  box_data = remove_na(group_data)\n"
     ]
    },
    {
     "data": {
      "image/png": "[encoded data removed]",
      "text/plain": [
       "<Figure size 576x396 with 1 Axes>"
      ]
     },
     "metadata": {
      "tags": []
     },
     "output_type": "display_data"
    }
   ],
   "source": [
    "import numpy as np\n",
    "from sklearn.model_selection import train_test_split\n",
    "from sklearn.linear_model import LogisticRegression\n",
    "from sklearn.ensemble import RandomForestClassifier\n",
    "from sklearn.svm import LinearSVC\n",
    "from sklearn.svm import SVC\n",
    "from sklearn.model_selection import cross_val_score\n",
    "from sklearn.naive_bayes import MultinomialNB\n",
    "\n",
    "X = hc_tfidf\n",
    "y = labels\n",
    "np.random.seed(3)\n",
    "X_train, X_test, y_train, y_test = train_test_split(X, y, test_size=0.2, random_state = 0)\n",
    "\n",
    "models = [\n",
    "    RandomForestClassifier(n_estimators=20, max_depth=3, random_state=0),\n",
    "    LinearSVC(),\n",
    "    MultinomialNB(),\n",
    "    LogisticRegression(random_state=0),\n",
    "    SVC()\n",
    "]\n",
    "CV = 10\n",
    "cv_df = pd.DataFrame(index=range(CV * len(models)))\n",
    "entries = []\n",
    "for model in models:\n",
    "    model_name = model.__class__.__name__\n",
    "    accuracies = cross_val_score(model, X_train, y_train, scoring='accuracy', cv=CV)\n",
    "    for fold_idx, accuracy in enumerate(accuracies):\n",
    "        entries.append((model_name, fold_idx, accuracy))\n",
    "cv_df = pd.DataFrame(entries, columns=['model_name', 'fold_idx', 'accuracy'])\n",
    "\n",
    "import seaborn as sns\n",
    "sns.boxplot(x='model_name', y='accuracy', data=cv_df)\n",
    "sns.stripplot(x='model_name', y='accuracy', data=cv_df, \n",
    "              size=8, jitter=True, edgecolor=\"gray\", linewidth=2)\n",
    "plt.show()"
   ]
  },
  {
   "cell_type": "code",
   "execution_count": 0,
   "metadata": {
    "colab": {
     "base_uri": "https://localhost:8080/",
     "height": 158
    },
    "colab_type": "code",
    "id": "HDVgYIwPW-JB",
    "outputId": "01831f05-476b-4755-d7f8-15d08172e3aa"
   },
   "outputs": [
    {
     "name": "stdout",
     "output_type": "stream",
     "text": [
      "tfidf features of headline-claim\n"
     ]
    },
    {
     "data": {
      "text/plain": [
       "model_name\n",
       "LinearSVC                 0.637789\n",
       "LogisticRegression        0.626608\n",
       "MultinomialNB             0.468809\n",
       "RandomForestClassifier    0.456500\n",
       "SVC                       0.499022\n",
       "Name: accuracy, dtype: float64"
      ]
     },
     "execution_count": 12,
     "metadata": {
      "tags": []
     },
     "output_type": "execute_result"
    }
   ],
   "source": [
    "print('tfidf features of headline-claim')\n",
    "cv_df.groupby('model_name').accuracy.mean()"
   ]
  },
  {
   "cell_type": "code",
   "execution_count": 0,
   "metadata": {
    "colab": {
     "base_uri": "https://localhost:8080/",
     "height": 563
    },
    "colab_type": "code",
    "id": "jxsxWezDW-JF",
    "outputId": "85b928b0-cf8b-456f-ee89-2be2ffa03ef8"
   },
   "outputs": [
    {
     "name": "stdout",
     "output_type": "stream",
     "text": [
      "tfidf - headline-claim - logistic regression\n"
     ]
    },
    {
     "data": {
      "image/png": "[encoded data removed]",
      "text/plain": [
       "<Figure size 360x360 with 2 Axes>"
      ]
     },
     "metadata": {
      "tags": []
     },
     "output_type": "display_data"
    },
    {
     "name": "stdout",
     "output_type": "stream",
     "text": [
      "              precision    recall  f1-score   support\n",
      "\n",
      "   Unrelated       0.63      0.65      0.64        80\n",
      "     Discuss       0.33      0.08      0.13        25\n",
      "       Agree       0.71      0.65      0.68       161\n",
      "    Disagree       0.59      0.72      0.65       140\n",
      "\n",
      "   micro avg       0.64      0.64      0.64       406\n",
      "   macro avg       0.57      0.53      0.53       406\n",
      "weighted avg       0.63      0.64      0.63       406\n",
      "\n",
      "0.6403940886699507\n"
     ]
    }
   ],
   "source": [
    "from sklearn.metrics import accuracy_score\n",
    "\n",
    "model = LogisticRegression(random_state=0, solver=\"newton-cg\", multi_class=\"multinomial\" )\n",
    "model.fit(X_train, y_train)\n",
    "y_pred = model.predict(X_test)\n",
    "from sklearn.metrics import confusion_matrix\n",
    "conf_mat = confusion_matrix(y_test, y_pred)\n",
    "fig, ax = plt.subplots(figsize=(5,5))\n",
    "sns.heatmap(conf_mat, annot=True, fmt='d',\n",
    "            xticklabels=category_id_df.label.values, yticklabels=category_id_df.label.values)\n",
    "plt.ylabel('Actual')\n",
    "plt.xlabel('Predicted')\n",
    "print('tfidf - headline-claim - logistic regression')\n",
    "plt.show()\n",
    "\n",
    "from sklearn import metrics\n",
    "print(metrics.classification_report(y_test, y_pred, target_names=df['label'].unique()))\n",
    "print(accuracy_score(y_test, y_pred))"
   ]
  },
  {
   "cell_type": "code",
   "execution_count": 0,
   "metadata": {
    "colab": {
     "base_uri": "https://localhost:8080/",
     "height": 563
    },
    "colab_type": "code",
    "id": "UJHSNBj8W-JK",
    "outputId": "cf2727e2-7f4a-47e5-eb4c-02ea283f4a43"
   },
   "outputs": [
    {
     "name": "stdout",
     "output_type": "stream",
     "text": [
      "tfidf - headline-claim - SVM\n"
     ]
    },
    {
     "data": {
      "image/png": "[encoded data removed]",
      "text/plain": [
       "<Figure size 360x360 with 2 Axes>"
      ]
     },
     "metadata": {
      "tags": []
     },
     "output_type": "display_data"
    },
    {
     "name": "stdout",
     "output_type": "stream",
     "text": [
      "              precision    recall  f1-score   support\n",
      "\n",
      "   Unrelated       0.60      0.66      0.63        80\n",
      "     Discuss       0.39      0.28      0.33        25\n",
      "       Agree       0.72      0.65      0.68       161\n",
      "    Disagree       0.61      0.67      0.64       140\n",
      "\n",
      "   micro avg       0.64      0.64      0.64       406\n",
      "   macro avg       0.58      0.57      0.57       406\n",
      "weighted avg       0.64      0.64      0.64       406\n",
      "\n",
      "0.6379310344827587\n"
     ]
    }
   ],
   "source": [
    "model = LinearSVC(max_iter=10000)\n",
    "model.fit(X_train, y_train)\n",
    "y_pred = model.predict(X_test)\n",
    "from sklearn.metrics import confusion_matrix\n",
    "conf_mat = confusion_matrix(y_test, y_pred)\n",
    "fig, ax = plt.subplots(figsize=(5,5))\n",
    "sns.heatmap(conf_mat, annot=True, fmt='d',\n",
    "            xticklabels=category_id_df.label.values, yticklabels=category_id_df.label.values)\n",
    "plt.ylabel('Actual')\n",
    "plt.xlabel('Predicted')\n",
    "print('tfidf - headline-claim - SVM')\n",
    "plt.show()\n",
    "\n",
    "print(metrics.classification_report(y_test, y_pred, target_names=df['label'].unique()))\n",
    "print(accuracy_score(y_test, y_pred))"
   ]
  },
  {
   "cell_type": "code",
   "execution_count": 0,
   "metadata": {
    "colab": {
     "base_uri": "https://localhost:8080/",
     "height": 563
    },
    "colab_type": "code",
    "id": "N8mIhaTD5SyJ",
    "outputId": "2204bcd5-b3b0-4396-f0b2-2c2205b1ace9"
   },
   "outputs": [
    {
     "name": "stdout",
     "output_type": "stream",
     "text": [
      "tfidf - headline-claim - SVM\n"
     ]
    },
    {
     "data": {
      "image/png": "[encoded data removed]",
      "text/plain": [
       "<Figure size 360x360 with 2 Axes>"
      ]
     },
     "metadata": {
      "tags": []
     },
     "output_type": "display_data"
    },
    {
     "name": "stdout",
     "output_type": "stream",
     "text": [
      "              precision    recall  f1-score   support\n",
      "\n",
      "   Unrelated       0.33      0.64      0.44        80\n",
      "     Discuss       0.30      0.12      0.17        25\n",
      "       Agree       0.88      0.39      0.54       161\n",
      "    Disagree       0.48      0.59      0.53       140\n",
      "\n",
      "   micro avg       0.49      0.49      0.49       406\n",
      "   macro avg       0.50      0.43      0.42       406\n",
      "weighted avg       0.60      0.49      0.49       406\n",
      "\n",
      "0.49014778325123154\n"
     ]
    }
   ],
   "source": [
    "import numpy as np\n",
    "from sklearn.model_selection import train_test_split\n",
    "from sklearn.linear_model import LogisticRegression\n",
    "from sklearn.ensemble import RandomForestClassifier\n",
    "from sklearn import metrics\n",
    "from sklearn.metrics import accuracy_score\n",
    "import matplotlib.pyplot as plt\n",
    "\n",
    "X = hc_tfidf\n",
    "y = labels\n",
    "np.random.seed(3)\n",
    "X_train, X_test, y_train, y_test = train_test_split(X, y, test_size=0.2, random_state = 0)\n",
    "\n",
    "from sklearn.naive_bayes import MultinomialNB\n",
    "model = MultinomialNB()\n",
    "model.fit(X_train, y_train)\n",
    "y_pred = model.predict(X_test)\n",
    "from sklearn.metrics import confusion_matrix\n",
    "conf_mat = confusion_matrix(y_test, y_pred)\n",
    "fig, ax = plt.subplots(figsize=(5,5))\n",
    "\n",
    "import seaborn as sns\n",
    "sns.heatmap(conf_mat, annot=True, fmt='d',\n",
    "            xticklabels=category_id_df.label.values, yticklabels=category_id_df.label.values)\n",
    "plt.ylabel('Actual')\n",
    "plt.xlabel('Predicted')\n",
    "print('tfidf - headline-claim - NB')\n",
    "plt.show()\n",
    "\n",
    "print(metrics.classification_report(y_test, y_pred, target_names=df['label'].unique()))\n",
    "print(accuracy_score(y_test, y_pred))"
   ]
  },
  {
   "cell_type": "code",
   "execution_count": 0,
   "metadata": {
    "colab": {
     "base_uri": "https://localhost:8080/",
     "height": 563
    },
    "colab_type": "code",
    "id": "Z8hlmqHQ8vMf",
    "outputId": "1599c4e4-cbd8-4b4a-d9f0-a22b0980a4c5"
   },
   "outputs": [
    {
     "name": "stdout",
     "output_type": "stream",
     "text": [
      "bow - headline-claim - NB\n"
     ]
    },
    {
     "data": {
      "image/png": "[encoded data removed]",
      "text/plain": [
       "<Figure size 360x360 with 2 Axes>"
      ]
     },
     "metadata": {
      "tags": []
     },
     "output_type": "display_data"
    },
    {
     "name": "stdout",
     "output_type": "stream",
     "text": [
      "              precision    recall  f1-score   support\n",
      "\n",
      "   Unrelated       0.45      0.51      0.48        80\n",
      "     Discuss       0.12      0.12      0.12        25\n",
      "       Agree       0.61      0.65      0.63       161\n",
      "    Disagree       0.47      0.39      0.43       140\n",
      "\n",
      "   micro avg       0.50      0.50      0.50       406\n",
      "   macro avg       0.41      0.42      0.41       406\n",
      "weighted avg       0.50      0.50      0.50       406\n",
      "\n",
      "0.5\n"
     ]
    }
   ],
   "source": [
    "import numpy as np\n",
    "from sklearn.model_selection import train_test_split\n",
    "from sklearn.linear_model import LogisticRegression\n",
    "from sklearn.ensemble import RandomForestClassifier\n",
    "from sklearn import metrics\n",
    "from sklearn.metrics import accuracy_score\n",
    "import matplotlib.pyplot as plt\n",
    "\n",
    "X = hc_bow\n",
    "y = labels\n",
    "np.random.seed(3)\n",
    "X_train, X_test, y_train, y_test = train_test_split(X, y, test_size=0.2, random_state = 0)\n",
    "\n",
    "from sklearn.naive_bayes import MultinomialNB\n",
    "model = MultinomialNB()\n",
    "model.fit(X_train, y_train)\n",
    "y_pred = model.predict(X_test)\n",
    "from sklearn.metrics import confusion_matrix\n",
    "conf_mat = confusion_matrix(y_test, y_pred)\n",
    "fig, ax = plt.subplots(figsize=(5,5))\n",
    "\n",
    "import seaborn as sns\n",
    "sns.heatmap(conf_mat, annot=True, fmt='d',\n",
    "            xticklabels=category_id_df.label.values, yticklabels=category_id_df.label.values)\n",
    "plt.ylabel('Actual')\n",
    "plt.xlabel('Predicted')\n",
    "print('bow - headline-claim - NB')\n",
    "plt.show()\n",
    "\n",
    "print(metrics.classification_report(y_test, y_pred, target_names=df['label'].unique()))\n",
    "print(accuracy_score(y_test, y_pred))"
   ]
  },
  {
   "cell_type": "code",
   "execution_count": 0,
   "metadata": {
    "colab": {
     "base_uri": "https://localhost:8080/",
     "height": 563
    },
    "colab_type": "code",
    "id": "R_5sgbGh67vU",
    "outputId": "8b92fe3b-4ca8-4361-a83e-3e86f8577c53"
   },
   "outputs": [
    {
     "name": "stdout",
     "output_type": "stream",
     "text": [
      "tfidf - headline-claim - RF\n"
     ]
    },
    {
     "data": {
      "image/png": "[encoded data removed]",
      "text/plain": [
       "<Figure size 360x360 with 2 Axes>"
      ]
     },
     "metadata": {
      "tags": []
     },
     "output_type": "display_data"
    },
    {
     "name": "stdout",
     "output_type": "stream",
     "text": [
      "              precision    recall  f1-score   support\n",
      "\n",
      "   Unrelated       0.73      0.64      0.68        80\n",
      "     Discuss       0.67      0.40      0.50        25\n",
      "       Agree       0.75      0.68      0.71       161\n",
      "    Disagree       0.62      0.77      0.69       140\n",
      "\n",
      "   micro avg       0.68      0.68      0.68       406\n",
      "   macro avg       0.69      0.62      0.64       406\n",
      "weighted avg       0.69      0.68      0.68       406\n",
      "\n",
      "0.6847290640394089\n"
     ]
    }
   ],
   "source": [
    "import numpy as np\n",
    "from sklearn.model_selection import train_test_split\n",
    "from sklearn.linear_model import LogisticRegression\n",
    "from sklearn.ensemble import RandomForestClassifier\n",
    "from sklearn import metrics\n",
    "from sklearn.metrics import accuracy_score\n",
    "import matplotlib.pyplot as plt\n",
    "\n",
    "X = hc_tfidf\n",
    "y = labels\n",
    "np.random.seed(3)\n",
    "X_train, X_test, y_train, y_test = train_test_split(X, y, test_size=0.2, random_state = 0)\n",
    "\n",
    "from sklearn.naive_bayes import MultinomialNB\n",
    "model = RandomForestClassifier(n_estimators=100, random_state=0)\n",
    "model.fit(X_train, y_train)\n",
    "y_pred = model.predict(X_test)\n",
    "from sklearn.metrics import confusion_matrix\n",
    "conf_mat = confusion_matrix(y_test, y_pred)\n",
    "fig, ax = plt.subplots(figsize=(5,5))\n",
    "\n",
    "import seaborn as sns\n",
    "sns.heatmap(conf_mat, annot=True, fmt='d',\n",
    "            xticklabels=category_id_df.label.values, yticklabels=category_id_df.label.values)\n",
    "plt.ylabel('Actual')\n",
    "plt.xlabel('Predicted')\n",
    "print('tfidf - headline-claim - RF')\n",
    "plt.show()\n",
    "\n",
    "print(metrics.classification_report(y_test, y_pred, target_names=df['label'].unique()))\n",
    "print(accuracy_score(y_test, y_pred))"
   ]
  },
  {
   "cell_type": "code",
   "execution_count": 0,
   "metadata": {
    "colab": {
     "base_uri": "https://localhost:8080/",
     "height": 563
    },
    "colab_type": "code",
    "id": "PsCOZhv88HEy",
    "outputId": "ac0356c4-f406-453b-d4b9-a623edbbfc99"
   },
   "outputs": [
    {
     "name": "stdout",
     "output_type": "stream",
     "text": [
      "tfidf - headline-claim - RF\n"
     ]
    },
    {
     "data": {
      "image/png": "[encoded data removed]",
      "text/plain": [
       "<Figure size 360x360 with 2 Axes>"
      ]
     },
     "metadata": {
      "tags": []
     },
     "output_type": "display_data"
    },
    {
     "name": "stdout",
     "output_type": "stream",
     "text": [
      "              precision    recall  f1-score   support\n",
      "\n",
      "   Unrelated       0.73      0.59      0.65        80\n",
      "     Discuss       0.75      0.12      0.21        25\n",
      "       Agree       0.74      0.71      0.72       161\n",
      "    Disagree       0.62      0.82      0.71       140\n",
      "\n",
      "   micro avg       0.69      0.69      0.69       406\n",
      "   macro avg       0.71      0.56      0.57       406\n",
      "weighted avg       0.70      0.69      0.67       406\n",
      "\n",
      "0.687192118226601\n"
     ]
    }
   ],
   "source": [
    "import numpy as np\n",
    "from sklearn.model_selection import train_test_split\n",
    "from sklearn.linear_model import LogisticRegression\n",
    "from sklearn.ensemble import RandomForestClassifier\n",
    "from sklearn import metrics\n",
    "from sklearn.metrics import accuracy_score\n",
    "import matplotlib.pyplot as plt\n",
    "\n",
    "X = hc_bow\n",
    "y = labels\n",
    "np.random.seed(3)\n",
    "X_train, X_test, y_train, y_test = train_test_split(X, y, test_size=0.2, random_state = 0)\n",
    "\n",
    "from sklearn.naive_bayes import MultinomialNB\n",
    "model = RandomForestClassifier(n_estimators=100, random_state=0)\n",
    "model.fit(X_train, y_train)\n",
    "y_pred = model.predict(X_test)\n",
    "from sklearn.metrics import confusion_matrix\n",
    "conf_mat = confusion_matrix(y_test, y_pred)\n",
    "fig, ax = plt.subplots(figsize=(5,5))\n",
    "\n",
    "import seaborn as sns\n",
    "sns.heatmap(conf_mat, annot=True, fmt='d',\n",
    "            xticklabels=category_id_df.label.values, yticklabels=category_id_df.label.values)\n",
    "plt.ylabel('Actual')\n",
    "plt.xlabel('Predicted')\n",
    "print('bow - headline-claim - RF')\n",
    "plt.show()\n",
    "\n",
    "print(metrics.classification_report(y_test, y_pred, target_names=df['label'].unique()))\n",
    "print(accuracy_score(y_test, y_pred))"
   ]
  },
  {
   "cell_type": "code",
   "execution_count": 0,
   "metadata": {
    "colab": {
     "base_uri": "https://localhost:8080/",
     "height": 563
    },
    "colab_type": "code",
    "id": "eFU78u7g8VQE",
    "outputId": "d0cd4e2e-b6fa-4346-cb70-eb74f35f0eb0"
   },
   "outputs": [
    {
     "name": "stdout",
     "output_type": "stream",
     "text": [
      "w2v - headline-claim - RF\n"
     ]
    },
    {
     "data": {
      "image/png": "[encoded data removed]",
      "text/plain": [
       "<Figure size 360x360 with 2 Axes>"
      ]
     },
     "metadata": {
      "tags": []
     },
     "output_type": "display_data"
    },
    {
     "name": "stdout",
     "output_type": "stream",
     "text": [
      "              precision    recall  f1-score   support\n",
      "\n",
      "   Unrelated       0.64      0.42      0.51        80\n",
      "     Discuss       0.80      0.16      0.27        25\n",
      "       Agree       0.57      0.73      0.64       161\n",
      "    Disagree       0.63      0.64      0.63       140\n",
      "\n",
      "   micro avg       0.60      0.60      0.60       406\n",
      "   macro avg       0.66      0.49      0.51       406\n",
      "weighted avg       0.62      0.60      0.59       406\n",
      "\n",
      "0.6009852216748769\n"
     ]
    }
   ],
   "source": [
    "import numpy as np\n",
    "from sklearn.model_selection import train_test_split\n",
    "from sklearn.linear_model import LogisticRegression\n",
    "from sklearn.ensemble import RandomForestClassifier\n",
    "from sklearn import metrics\n",
    "from sklearn.metrics import accuracy_score\n",
    "import matplotlib.pyplot as plt\n",
    "\n",
    "X = hc_w2v\n",
    "y = labels\n",
    "np.random.seed(3)\n",
    "X_train, X_test, y_train, y_test = train_test_split(X, y, test_size=0.2, random_state = 0)\n",
    "\n",
    "from sklearn.naive_bayes import MultinomialNB\n",
    "model = RandomForestClassifier(n_estimators=100, random_state=0)\n",
    "model.fit(X_train, y_train)\n",
    "y_pred = model.predict(X_test)\n",
    "from sklearn.metrics import confusion_matrix\n",
    "conf_mat = confusion_matrix(y_test, y_pred)\n",
    "fig, ax = plt.subplots(figsize=(5,5))\n",
    "\n",
    "import seaborn as sns\n",
    "sns.heatmap(conf_mat, annot=True, fmt='d',\n",
    "            xticklabels=category_id_df.label.values, yticklabels=category_id_df.label.values)\n",
    "plt.ylabel('Actual')\n",
    "plt.xlabel('Predicted')\n",
    "print('w2v - headline-claim - RF')\n",
    "plt.show()\n",
    "\n",
    "print(metrics.classification_report(y_test, y_pred, target_names=df['label'].unique()))\n",
    "print(accuracy_score(y_test, y_pred))"
   ]
  },
  {
   "cell_type": "code",
   "execution_count": 0,
   "metadata": {
    "colab": {
     "base_uri": "https://localhost:8080/",
     "height": 618
    },
    "colab_type": "code",
    "id": "oJKd3u_cW-JP",
    "outputId": "53a9a75d-a423-467d-c680-40019dc6f10c"
   },
   "outputs": [
    {
     "name": "stdout",
     "output_type": "stream",
     "text": [
      "0.39173228346456695\n",
      "              precision    recall  f1-score   support\n",
      "\n",
      "   Unrelated       0.00      0.00      0.00       102\n",
      "     Discuss       0.00      0.00      0.00        48\n",
      "       Agree       0.39      1.00      0.56       199\n",
      "    Disagree       0.00      0.00      0.00       159\n",
      "\n",
      "   micro avg       0.39      0.39      0.39       508\n",
      "   macro avg       0.10      0.25      0.14       508\n",
      "weighted avg       0.15      0.39      0.22       508\n",
      "\n",
      "headline-claim - Majority\n"
     ]
    },
    {
     "name": "stderr",
     "output_type": "stream",
     "text": [
      "/usr/local/lib/python3.6/dist-packages/sklearn/metrics/classification.py:1143: UndefinedMetricWarning: Precision and F-score are ill-defined and being set to 0.0 in labels with no predicted samples.\n",
      "  'precision', 'predicted', average, warn_for)\n"
     ]
    },
    {
     "data": {
      "image/png": "[encoded data removed]",
      "text/plain": [
       "<Figure size 360x360 with 2 Axes>"
      ]
     },
     "metadata": {
      "tags": []
     },
     "output_type": "display_data"
    }
   ],
   "source": [
    "from sklearn.dummy import DummyClassifier\n",
    "from sklearn.metrics import accuracy_score\n",
    "\n",
    "np.random.seed(4)\n",
    "X_train, X_test, y_train, y_test = train_test_split(\n",
    "   hc_tfidf, labels, test_size=0.25, random_state=100)\n",
    "\n",
    "clf_maj = DummyClassifier(strategy='most_frequent', random_state=None, constant=None)\n",
    "clf_maj.fit(X_train, y_train)\n",
    "\n",
    "y_pred = clf_maj.predict(X_test)\n",
    "print(accuracy_score(y_test, y_pred))\n",
    "print(metrics.classification_report(y_test, y_pred, target_names=df['label'].unique()))\n",
    "\n",
    "conf_mat = confusion_matrix(y_test, y_pred)\n",
    "fig, ax = plt.subplots(figsize=(5,5))\n",
    "sns.heatmap(conf_mat, annot=True, fmt='d',\n",
    "            xticklabels=category_id_df.label.values, yticklabels=category_id_df.label.values)\n",
    "plt.ylabel('Actual')\n",
    "plt.xlabel('Predicted')\n",
    "print('headline-claim - Majority')\n",
    "plt.show()\n"
   ]
  },
  {
   "cell_type": "code",
   "execution_count": 0,
   "metadata": {
    "colab": {
     "base_uri": "https://localhost:8080/",
     "height": 238
    },
    "colab_type": "code",
    "id": "IntYvCWZW-JT",
    "outputId": "c8db170c-66f6-4f99-8747-a0d46b2bb146"
   },
   "outputs": [
    {
     "ename": "NameError",
     "evalue": "ignored",
     "output_type": "error",
     "traceback": [
      "\u001b[0;31m---------------------------------------------------------------------------\u001b[0m",
      "\u001b[0;31mNameError\u001b[0m                                 Traceback (most recent call last)",
      "\u001b[0;32m<ipython-input-45-891feb208238>\u001b[0m in \u001b[0;36m<module>\u001b[0;34m()\u001b[0m\n\u001b[0;32m----> 1\u001b[0;31m \u001b[0mX\u001b[0m \u001b[0;34m=\u001b[0m \u001b[0mhc_bow\u001b[0m\u001b[0;34m\u001b[0m\u001b[0;34m\u001b[0m\u001b[0m\n\u001b[0m\u001b[1;32m      2\u001b[0m \u001b[0my\u001b[0m \u001b[0;34m=\u001b[0m \u001b[0mlabels\u001b[0m\u001b[0;34m\u001b[0m\u001b[0;34m\u001b[0m\u001b[0m\n\u001b[1;32m      3\u001b[0m \u001b[0mnp\u001b[0m\u001b[0;34m.\u001b[0m\u001b[0mrandom\u001b[0m\u001b[0;34m.\u001b[0m\u001b[0mseed\u001b[0m\u001b[0;34m(\u001b[0m\u001b[0;36m3\u001b[0m\u001b[0;34m)\u001b[0m\u001b[0;34m\u001b[0m\u001b[0;34m\u001b[0m\u001b[0m\n\u001b[1;32m      4\u001b[0m \u001b[0mX_train\u001b[0m\u001b[0;34m,\u001b[0m \u001b[0mX_test\u001b[0m\u001b[0;34m,\u001b[0m \u001b[0my_train\u001b[0m\u001b[0;34m,\u001b[0m \u001b[0my_test\u001b[0m \u001b[0;34m=\u001b[0m \u001b[0mtrain_test_split\u001b[0m\u001b[0;34m(\u001b[0m\u001b[0mX\u001b[0m\u001b[0;34m,\u001b[0m \u001b[0my\u001b[0m\u001b[0;34m,\u001b[0m \u001b[0mtest_size\u001b[0m\u001b[0;34m=\u001b[0m\u001b[0;36m0.2\u001b[0m\u001b[0;34m,\u001b[0m \u001b[0mrandom_state\u001b[0m \u001b[0;34m=\u001b[0m \u001b[0;36m42\u001b[0m\u001b[0;34m)\u001b[0m\u001b[0;34m\u001b[0m\u001b[0;34m\u001b[0m\u001b[0m\n\u001b[1;32m      5\u001b[0m \u001b[0;34m\u001b[0m\u001b[0m\n",
      "\u001b[0;31mNameError\u001b[0m: name 'hc_bow' is not defined"
     ]
    }
   ],
   "source": [
    "X = hc_bow\n",
    "y = labels\n",
    "np.random.seed(3)\n",
    "X_train, X_test, y_train, y_test = train_test_split(X, y, test_size=0.2, random_state = 42)\n",
    "\n",
    "models = [\n",
    "    RandomForestClassifier(n_estimators=20, max_depth=3, random_state=0),\n",
    "    LinearSVC(max_iter=10000),\n",
    "    MultinomialNB(),\n",
    "    LogisticRegression(random_state=0, solver=\"newton-cg\", multi_class=\"multinomial\"),\n",
    "]\n",
    "CV = 10\n",
    "cv_df = pd.DataFrame(index=range(CV * len(models)))\n",
    "entries = []\n",
    "for model in models:\n",
    "    model_name = model.__class__.__name__\n",
    "    accuracies = cross_val_score(model, X_train, y_train, scoring='accuracy', cv=CV)\n",
    "    for fold_idx, accuracy in enumerate(accuracies):\n",
    "        entries.append((model_name, fold_idx, accuracy))\n",
    "cv_df = pd.DataFrame(entries, columns=['model_name', 'fold_idx', 'accuracy'])\n",
    "\n",
    "import seaborn as sns\n",
    "sns.boxplot(x='model_name', y='accuracy', data=cv_df)\n",
    "sns.stripplot(x='model_name', y='accuracy', data=cv_df, \n",
    "              size=8, jitter=True, edgecolor=\"gray\", linewidth=2)\n",
    "print('BOW + similarity + imp_words')\n",
    "plt.show()"
   ]
  },
  {
   "cell_type": "code",
   "execution_count": 0,
   "metadata": {
    "colab": {},
    "colab_type": "code",
    "id": "5bxCeRgCW-JW",
    "outputId": "5558ab3c-4ea7-4aa9-b7bc-96c5e73103e0"
   },
   "outputs": [
    {
     "name": "stdout",
     "output_type": "stream",
     "text": [
      "bow features of headline-claim\n"
     ]
    },
    {
     "data": {
      "text/plain": [
       "model_name\n",
       "LinearSVC                 0.619258\n",
       "LogisticRegression        0.606317\n",
       "MultinomialNB             0.491667\n",
       "RandomForestClassifier    0.395576\n",
       "Name: accuracy, dtype: float64"
      ]
     },
     "execution_count": 44,
     "metadata": {
      "tags": []
     },
     "output_type": "execute_result"
    }
   ],
   "source": [
    "print('bow features of headline-claim')\n",
    "cv_df.groupby('model_name').accuracy.mean()"
   ]
  },
  {
   "cell_type": "code",
   "execution_count": 0,
   "metadata": {
    "colab": {
     "base_uri": "https://localhost:8080/",
     "height": 563
    },
    "colab_type": "code",
    "id": "HRdy-nxoW-JZ",
    "outputId": "475750f9-9daa-4366-c83d-009107f0154d"
   },
   "outputs": [
    {
     "name": "stdout",
     "output_type": "stream",
     "text": [
      "bow - headline-claim - logistic regression\n"
     ]
    },
    {
     "data": {
      "image/png": "[encoded data removed]",
      "text/plain": [
       "<Figure size 360x360 with 2 Axes>"
      ]
     },
     "metadata": {
      "tags": []
     },
     "output_type": "display_data"
    },
    {
     "name": "stdout",
     "output_type": "stream",
     "text": [
      "              precision    recall  f1-score   support\n",
      "\n",
      "   Unrelated       0.62      0.57      0.60        80\n",
      "     Discuss       0.37      0.28      0.32        25\n",
      "       Agree       0.70      0.67      0.69       161\n",
      "    Disagree       0.60      0.69      0.64       140\n",
      "\n",
      "   micro avg       0.63      0.63      0.63       406\n",
      "   macro avg       0.57      0.55      0.56       406\n",
      "weighted avg       0.63      0.63      0.63       406\n",
      "\n",
      "0.6330049261083743\n"
     ]
    }
   ],
   "source": [
    "X = hc_bow\n",
    "y = labels\n",
    "np.random.seed(3)\n",
    "X_train, X_test, y_train, y_test = train_test_split(X, y, test_size=0.2, random_state = 0)\n",
    "\n",
    "model = LogisticRegression(random_state=0, solver=\"newton-cg\", multi_class=\"multinomial\" )\n",
    "\n",
    "model.fit(X_train, y_train)\n",
    "y_pred = model.predict(X_test)\n",
    "from sklearn.metrics import confusion_matrix\n",
    "conf_mat = confusion_matrix(y_test, y_pred)\n",
    "fig, ax = plt.subplots(figsize=(5,5))\n",
    "sns.heatmap(conf_mat, annot=True, fmt='d',\n",
    "            xticklabels=category_id_df.label.values, yticklabels=category_id_df.label.values)\n",
    "plt.ylabel('Actual')\n",
    "plt.xlabel('Predicted')\n",
    "print('bow - headline-claim - logistic regression')\n",
    "plt.show()\n",
    "\n",
    "from sklearn import metrics\n",
    "print(metrics.classification_report(y_test, y_pred, target_names=df['label'].unique()))\n",
    "print(accuracy_score(y_test, y_pred))"
   ]
  },
  {
   "cell_type": "code",
   "execution_count": 0,
   "metadata": {
    "colab": {
     "base_uri": "https://localhost:8080/",
     "height": 563
    },
    "colab_type": "code",
    "id": "-Hq96A__W-Jd",
    "outputId": "b28d826e-0116-45fd-d3b8-d4e7f3fb2c87"
   },
   "outputs": [
    {
     "name": "stdout",
     "output_type": "stream",
     "text": [
      "bow - headline-claim - SVM\n"
     ]
    },
    {
     "data": {
      "image/png": "[encoded data removed]",
      "text/plain": [
       "<Figure size 360x360 with 2 Axes>"
      ]
     },
     "metadata": {
      "tags": []
     },
     "output_type": "display_data"
    },
    {
     "name": "stdout",
     "output_type": "stream",
     "text": [
      "              precision    recall  f1-score   support\n",
      "\n",
      "   Unrelated       0.57      0.57      0.57        80\n",
      "     Discuss       0.31      0.36      0.33        25\n",
      "       Agree       0.72      0.70      0.71       161\n",
      "    Disagree       0.64      0.64      0.64       140\n",
      "\n",
      "   micro avg       0.63      0.63      0.63       406\n",
      "   macro avg       0.56      0.57      0.56       406\n",
      "weighted avg       0.64      0.63      0.63       406\n",
      "\n",
      "0.6330049261083743\n"
     ]
    }
   ],
   "source": [
    "from sklearn.svm import LinearSVC\n",
    "\n",
    "X_train, X_test, y_train, y_test = train_test_split(X, y, test_size=0.2, random_state = 0)\n",
    "\n",
    "\n",
    "model = LinearSVC(max_iter=10000)\n",
    "model.fit(X_train, y_train)\n",
    "y_pred = model.predict(X_test)\n",
    "from sklearn.metrics import confusion_matrix\n",
    "conf_mat = confusion_matrix(y_test, y_pred)\n",
    "fig, ax = plt.subplots(figsize=(5,5))\n",
    "sns.heatmap(conf_mat, annot=True, fmt='d',\n",
    "            xticklabels=category_id_df.label.values, yticklabels=category_id_df.label.values)\n",
    "plt.ylabel('Actual')\n",
    "plt.xlabel('Predicted')\n",
    "print('bow - headline-claim - SVM')\n",
    "plt.show()\n",
    "\n",
    "print(metrics.classification_report(y_test, y_pred, target_names=df['label'].unique()))\n",
    "print(accuracy_score(y_test, y_pred))"
   ]
  },
  {
   "cell_type": "code",
   "execution_count": 0,
   "metadata": {
    "colab": {
     "base_uri": "https://localhost:8080/",
     "height": 434
    },
    "colab_type": "code",
    "id": "CSuGvpZSW-Ji",
    "outputId": "4dd54a9a-7e90-436b-e30d-c8951d2330a1"
   },
   "outputs": [
    {
     "name": "stderr",
     "output_type": "stream",
     "text": [
      "/usr/local/lib/python3.6/dist-packages/seaborn/categorical.py:454: FutureWarning: remove_na is deprecated and is a private function. Do not use.\n",
      "  box_data = remove_na(group_data)\n"
     ]
    },
    {
     "name": "stdout",
     "output_type": "stream",
     "text": [
      "w2v + similarity + imp_words\n"
     ]
    },
    {
     "data": {
      "image/png": "[encoded data removed]",
      "text/plain": [
       "<Figure size 576x396 with 1 Axes>"
      ]
     },
     "metadata": {
      "tags": []
     },
     "output_type": "display_data"
    }
   ],
   "source": [
    "X = hc_w2v\n",
    "y = labels\n",
    "np.random.seed(3)\n",
    "X_train, X_test, y_train, y_test = train_test_split(X, y, test_size=0.2, random_state = 42)\n",
    "\n",
    "models = [\n",
    "    RandomForestClassifier(n_estimators=20, max_depth=3, random_state=0),\n",
    "    LinearSVC(max_iter=10000),\n",
    "    MultinomialNB(),\n",
    "    LogisticRegression(random_state=0, solver=\"newton-cg\", multi_class=\"multinomial\"),\n",
    "]\n",
    "CV = 10\n",
    "cv_df = pd.DataFrame(index=range(CV * len(models)))\n",
    "entries = []\n",
    "for model in models:\n",
    "    model_name = model.__class__.__name__\n",
    "    accuracies = cross_val_score(model, X_train, y_train, scoring='accuracy', cv=CV)\n",
    "    for fold_idx, accuracy in enumerate(accuracies):\n",
    "        entries.append((model_name, fold_idx, accuracy))\n",
    "cv_df = pd.DataFrame(entries, columns=['model_name', 'fold_idx', 'accuracy'])\n",
    "\n",
    "import seaborn as sns\n",
    "sns.boxplot(x='model_name', y='accuracy', data=cv_df)\n",
    "sns.stripplot(x='model_name', y='accuracy', data=cv_df, \n",
    "              size=8, jitter=True, edgecolor=\"gray\", linewidth=2)\n",
    "print('w2v + similarity + imp_words')\n",
    "plt.show()"
   ]
  },
  {
   "cell_type": "code",
   "execution_count": 0,
   "metadata": {
    "colab": {
     "base_uri": "https://localhost:8080/",
     "height": 140
    },
    "colab_type": "code",
    "id": "8NCqRKT9W-Jl",
    "outputId": "ba5aea84-525e-4b7d-a477-baa1f4ec7a24"
   },
   "outputs": [
    {
     "name": "stdout",
     "output_type": "stream",
     "text": [
      "w2v features of headline-claim\n"
     ]
    },
    {
     "data": {
      "text/plain": [
       "model_name\n",
       "LinearSVC                 0.611165\n",
       "LogisticRegression        0.604383\n",
       "MultinomialNB             0.417784\n",
       "RandomForestClassifier    0.511510\n",
       "Name: accuracy, dtype: float64"
      ]
     },
     "execution_count": 48,
     "metadata": {
      "tags": []
     },
     "output_type": "execute_result"
    }
   ],
   "source": [
    "print('w2v features of headline-claim')\n",
    "cv_df.groupby('model_name').accuracy.mean()"
   ]
  },
  {
   "cell_type": "code",
   "execution_count": 0,
   "metadata": {
    "colab": {},
    "colab_type": "code",
    "id": "djLahWcXW-Jt",
    "outputId": "4f18f8e0-fef6-47c4-ad65-39fd1b42b98d"
   },
   "outputs": [
    {
     "name": "stdout",
     "output_type": "stream",
     "text": [
      "w2v - headline-claim - logistic regression\n"
     ]
    },
    {
     "data": {
      "image/png": "[encoded data removed]",
      "text/plain": [
       "<Figure size 360x360 with 2 Axes>"
      ]
     },
     "metadata": {
      "tags": []
     },
     "output_type": "display_data"
    },
    {
     "name": "stderr",
     "output_type": "stream",
     "text": [
      "G:\\Anaconda3\\lib\\site-packages\\sklearn\\metrics\\classification.py:1135: UndefinedMetricWarning: Precision and F-score are ill-defined and being set to 0.0 in labels with no predicted samples.\n",
      "  'precision', 'predicted', average, warn_for)\n"
     ]
    },
    {
     "name": "stdout",
     "output_type": "stream",
     "text": [
      "             precision    recall  f1-score   support\n",
      "\n",
      "    Discuss       0.49      0.48      0.49        69\n",
      "      Agree       0.00      0.00      0.00        31\n",
      "  Unrelated       0.77      0.63      0.69       160\n",
      "   Disagree       0.55      0.77      0.64       146\n",
      "\n",
      "avg / total       0.58      0.61      0.59       406\n",
      "\n"
     ]
    }
   ],
   "source": [
    "model = LogisticRegression(random_state=0)\n",
    "model.fit(X_train, y_train)\n",
    "y_pred = model.predict(X_test)\n",
    "from sklearn.metrics import confusion_matrix\n",
    "conf_mat = confusion_matrix(y_test, y_pred)\n",
    "fig, ax = plt.subplots(figsize=(5,5))\n",
    "sns.heatmap(conf_mat, annot=True, fmt='d',\n",
    "            xticklabels=category_id_df.label.values, yticklabels=category_id_df.label.values)\n",
    "plt.ylabel('Actual')\n",
    "plt.xlabel('Predicted')\n",
    "print('w2v - headline-claim - logistic regression')\n",
    "plt.show()\n",
    "\n",
    "from sklearn import metrics\n",
    "print(metrics.classification_report(y_test, y_pred, target_names=df['label'].unique()))"
   ]
  },
  {
   "cell_type": "code",
   "execution_count": 0,
   "metadata": {
    "colab": {},
    "colab_type": "code",
    "id": "d9MKb0LWW-J0",
    "outputId": "7e026850-202b-49dc-9d42-e84030bf96b2"
   },
   "outputs": [
    {
     "name": "stdout",
     "output_type": "stream",
     "text": [
      "w2v - headline-claim - SVM\n"
     ]
    },
    {
     "data": {
      "image/png": "[encoded data removed]",
      "text/plain": [
       "<Figure size 360x360 with 2 Axes>"
      ]
     },
     "metadata": {
      "tags": []
     },
     "output_type": "display_data"
    },
    {
     "name": "stderr",
     "output_type": "stream",
     "text": [
      "G:\\Anaconda3\\lib\\site-packages\\sklearn\\metrics\\classification.py:1135: UndefinedMetricWarning: Precision and F-score are ill-defined and being set to 0.0 in labels with no predicted samples.\n",
      "  'precision', 'predicted', average, warn_for)\n"
     ]
    },
    {
     "name": "stdout",
     "output_type": "stream",
     "text": [
      "             precision    recall  f1-score   support\n",
      "\n",
      "    Discuss       0.49      0.51      0.50        69\n",
      "      Agree       0.00      0.00      0.00        31\n",
      "  Unrelated       0.74      0.62      0.68       160\n",
      "   Disagree       0.56      0.78      0.66       146\n",
      "\n",
      "avg / total       0.58      0.61      0.59       406\n",
      "\n"
     ]
    }
   ],
   "source": [
    "model = LinearSVC()\n",
    "model.fit(X_train, y_train)\n",
    "y_pred = model.predict(X_test)\n",
    "from sklearn.metrics import confusion_matrix\n",
    "conf_mat = confusion_matrix(y_test, y_pred)\n",
    "fig, ax = plt.subplots(figsize=(5,5))\n",
    "sns.heatmap(conf_mat, annot=True, fmt='d',\n",
    "            xticklabels=category_id_df.label.values, yticklabels=category_id_df.label.values)\n",
    "plt.ylabel('Actual')\n",
    "plt.xlabel('Predicted')\n",
    "print('w2v - headline-claim - SVM')\n",
    "plt.show()\n",
    "\n",
    "print(metrics.classification_report(y_test, y_pred, target_names=df['label'].unique()))"
   ]
  }
 ],
 "metadata": {
  "accelerator": "GPU",
  "colab": {
   "collapsed_sections": [],
   "name": "BaseLine_PersianStance.ipynb",
   "provenance": []
  },
  "kernelspec": {
   "display_name": "Python 3",
   "language": "python",
   "name": "python3"
  },
  "language_info": {
   "codemirror_mode": {
    "name": "ipython",
    "version": 3
   },
   "file_extension": ".py",
   "mimetype": "text/x-python",
   "name": "python",
   "nbconvert_exporter": "python",
   "pygments_lexer": "ipython3",
   "version": "3.6.7"
  }
 },
 "nbformat": 4,
 "nbformat_minor": 1
}
